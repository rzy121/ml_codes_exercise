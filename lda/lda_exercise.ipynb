{
 "cells": [
  {
   "cell_type": "markdown",
   "metadata": {},
   "source": [
    "### Linear Discriminant Analysis Exercise\n",
    "\n",
    "- Following example of [this blog post](https://goelhardik.github.io/2016/10/04/fishers-lda/) and [this blog post](https://sebastianraschka.com/Articles/2014_python_lda.html#principal-component-analysis-vs-linear-discriminant-analysis)\n",
    "- Algorithm summary\n",
    "    - for each class $c$, calculate the within-class scatter-ness $S_c = \\sum_{x\\in c}^n{(x-m_c)(x-m_c)^T}$, where $m_c$ is the mean vector for all variables\n",
    "    - sum all $S_i$ to get $S_W = \\sum_{c=1}^{C}S_c$\n",
    "    - for all classes, calcuate the between-class scatter-ness $S_B = \\sum_{c=1}^{C}N_c(m_c-m)(m_c-m)^T$, where $m$ is the mean vector for the whole dataset\n",
    "    - eigen-decompose the matrix $A = S_B^{-1}S_W$, and pick the top $K$ eigen-vectors. these are the new reduced dimensions for the original dataset\n",
    "    - transform the original dataset using the new dimensions, $X_{new}= XW$, where $W$ is the top $K$ eigen vectors"
   ]
  },
  {
   "cell_type": "code",
   "execution_count": 1,
   "metadata": {},
   "outputs": [],
   "source": [
    "class LDA():\n",
    "    def __init__(self, dims=2):\n",
    "        '''\n",
    "        class builder for LDA\n",
    "        X: input dataset\n",
    "        y: labels (classes) of the data\n",
    "        dims: number of new dimensions\n",
    "        '''\n",
    "        self.dims = dims\n",
    "        \n",
    "    def calc_scatter(self, X, y):\n",
    "        c_means = {c: X[y==c, :].mean(axis=0) for c in self.classes}\n",
    "        means = X.mean(axis=0)\n",
    "        \n",
    "        # initialize empty m x m matrix for the between-class scatter-ness\n",
    "        self.Sb = np.zeros((self.m, self.m))\n",
    "        # initialize empty m x m matrix for the within-class scatter-ness\n",
    "        self.Sw = np.zeros((self.m, self.m))\n",
    "        # initialize prior distribution of classes (pct of each class)\n",
    "        self.class_prior = {}\n",
    "        for k, v in c_means.items():\n",
    "            # calcluate between-class scatter-ness\n",
    "            cn = (y==k).sum()\n",
    "            self.class_prior[k] = cn / self.n\n",
    "            self.Sb += cn * np.outer((c_means[k] - means), (c_means[k] - means))\n",
    "            #calculate within-class scatter-ness\n",
    "            self.Sw += (X[y==k, :] - v).T.dot(X[y==k, :] - v)\n",
    "\n",
    "    def fit(self, X, y):\n",
    "        # assign variables\n",
    "        self.n, self.m = X.shape\n",
    "        self.classes = np.unique(y)\n",
    "        # calcualte between-class and within-class scatter-ness\n",
    "        self.calc_scatter(X, y)\n",
    "        # calcualte matrix A, the targe to eigen-decompose\n",
    "        A = np.linalg.inv(self.Sw).dot(self.Sb)\n",
    "        # eigen decompose using numpy function\n",
    "        eigvals, eigvecs = np.linalg.eig(A)\n",
    "        # pair eigen values and corresponding eigen vectors\n",
    "        eiglist = [(eigvals[i], eigvecs[:, i]) for i in range(len(eigvals))]\n",
    "        # sort eigen vectors in desc by eigen values\n",
    "        eiglist = sorted(eiglist, key=lambda x: x[0], reverse=True)\n",
    "        self.W = np.array([eiglist[i][1] for i in range(self.dims)]).T\n",
    "        # transform the original input data using the top K=2 eigen vectors\n",
    "        self.X_new = X.dot(self.W)\n",
    "    \n",
    "        # calculate the new means per class for the transformed data\n",
    "        self.means_new_class = {c: self.X_new[y==c,:].mean(axis=0) for c in self.classes}\n",
    "        # calculate covariance matrix for each class\n",
    "        self.cov_new_class = {c: np.cov(self.X_new[y==c,:], rowvar=False) for c in self.classes}\n",
    "        \n",
    "    def gaussian(self, point):\n",
    "        # initialize empty array to hold likelihood per class\n",
    "        pdf = np.zeros(len(self.classes))\n",
    "        # transform new data point\n",
    "        point_new = point.dot(self.W)\n",
    "        # calculate the normal likelihood per class for the transformed data point\n",
    "        for i, c in enumerate(self.classes):\n",
    "            cov = self.cov_new_class[c]\n",
    "            means = self.means_new_class[c]\n",
    "            cons = 1. / ((2*np.pi)**(len(point_new) / 2.)) * (np.linalg.det(cov)**(-0.5))\n",
    "            exp = np.exp(-0.5*(point_new - means).T.dot(np.linalg.inv(cov)).dot((point_new - means)))\n",
    "            pdf[i] = cons * exp\n",
    "        return pdf\n",
    "    \n",
    "    def predict(self, data):\n",
    "        # initialize prediction matrix\n",
    "        preds = np.zeros((data.shape[0], len(self.classes)))\n",
    "        # loop through each row in the new data set and calculate likelihood per class\n",
    "        for n in range(data.shape[0]):\n",
    "            for i, c in enumerate(self.classes):\n",
    "                preds[n, i] = (self.gaussian(data[n, :])[i] * self.class_prior[c])\n",
    "        # return the label correpsonding to the most likely class\n",
    "        return np.array([self.classes[p] for p in preds.argmax(axis=1)])"
   ]
  },
  {
   "cell_type": "code",
   "execution_count": 2,
   "metadata": {},
   "outputs": [
    {
     "data": {
      "text/html": [
       "<div>\n",
       "<style scoped>\n",
       "    .dataframe tbody tr th:only-of-type {\n",
       "        vertical-align: middle;\n",
       "    }\n",
       "\n",
       "    .dataframe tbody tr th {\n",
       "        vertical-align: top;\n",
       "    }\n",
       "\n",
       "    .dataframe thead th {\n",
       "        text-align: right;\n",
       "    }\n",
       "</style>\n",
       "<table border=\"1\" class=\"dataframe\">\n",
       "  <thead>\n",
       "    <tr style=\"text-align: right;\">\n",
       "      <th></th>\n",
       "      <th>0</th>\n",
       "      <th>1</th>\n",
       "      <th>2</th>\n",
       "      <th>3</th>\n",
       "      <th>4</th>\n",
       "    </tr>\n",
       "  </thead>\n",
       "  <tbody>\n",
       "    <tr>\n",
       "      <th>145</th>\n",
       "      <td>6.7</td>\n",
       "      <td>3.0</td>\n",
       "      <td>5.2</td>\n",
       "      <td>2.3</td>\n",
       "      <td>2</td>\n",
       "    </tr>\n",
       "    <tr>\n",
       "      <th>146</th>\n",
       "      <td>6.3</td>\n",
       "      <td>2.5</td>\n",
       "      <td>5.0</td>\n",
       "      <td>1.9</td>\n",
       "      <td>2</td>\n",
       "    </tr>\n",
       "    <tr>\n",
       "      <th>147</th>\n",
       "      <td>6.5</td>\n",
       "      <td>3.0</td>\n",
       "      <td>5.2</td>\n",
       "      <td>2.0</td>\n",
       "      <td>2</td>\n",
       "    </tr>\n",
       "    <tr>\n",
       "      <th>148</th>\n",
       "      <td>6.2</td>\n",
       "      <td>3.4</td>\n",
       "      <td>5.4</td>\n",
       "      <td>2.3</td>\n",
       "      <td>2</td>\n",
       "    </tr>\n",
       "    <tr>\n",
       "      <th>149</th>\n",
       "      <td>5.9</td>\n",
       "      <td>3.0</td>\n",
       "      <td>5.1</td>\n",
       "      <td>1.8</td>\n",
       "      <td>2</td>\n",
       "    </tr>\n",
       "  </tbody>\n",
       "</table>\n",
       "</div>"
      ],
      "text/plain": [
       "       0    1    2    3  4\n",
       "145  6.7  3.0  5.2  2.3  2\n",
       "146  6.3  2.5  5.0  1.9  2\n",
       "147  6.5  3.0  5.2  2.0  2\n",
       "148  6.2  3.4  5.4  2.3  2\n",
       "149  5.9  3.0  5.1  1.8  2"
      ]
     },
     "execution_count": 2,
     "metadata": {},
     "output_type": "execute_result"
    }
   ],
   "source": [
    "# load test data\n",
    "\n",
    "df = pd.read_csv('https://archive.ics.uci.edu/ml/machine-learning-databases/iris/iris.data', header=None)\n",
    "df[4] = df[4].map({'Iris-setosa':0, 'Iris-versicolor':1, 'Iris-virginica':2})\n",
    "df.tail()"
   ]
  },
  {
   "cell_type": "code",
   "execution_count": 3,
   "metadata": {
    "scrolled": true
   },
   "outputs": [],
   "source": [
    "lda = LDA()\n",
    "X, y = df.iloc[:, 0:3].values, df.iloc[:, 4].values\n",
    "lda.fit(X, y)"
   ]
  },
  {
   "cell_type": "code",
   "execution_count": 9,
   "metadata": {},
   "outputs": [
    {
     "data": {
      "image/png": "[encoded data removed]",
      "text/plain": [
       "<Figure size 432x288 with 1 Axes>"
      ]
     },
     "metadata": {
      "needs_background": "light"
     },
     "output_type": "display_data"
    }
   ],
   "source": [
    "for i, c in enumerate(colors):\n",
    "    plt.scatter(lda.X_new[y==i, 0],lda.X_new[y==i, 1])"
   ]
  },
  {
   "cell_type": "code",
   "execution_count": 10,
   "metadata": {},
   "outputs": [
    {
     "data": {
      "text/plain": [
       "array([[50,  0,  0],\n",
       "       [ 0, 48,  2],\n",
       "       [ 0,  3, 47]])"
      ]
     },
     "execution_count": 10,
     "metadata": {},
     "output_type": "execute_result"
    }
   ],
   "source": [
    "from sklearn.metrics import confusion_matrix\n",
    "confusion_matrix(y, lda.predict(X))"
   ]
  }
 ],
 "metadata": {
  "kernelspec": {
   "display_name": "Python 3",
   "language": "python",
   "name": "python3"
  },
  "language_info": {
   "codemirror_mode": {
    "name": "ipython",
    "version": 3
   },
   "file_extension": ".py",
   "mimetype": "text/x-python",
   "name": "python",
   "nbconvert_exporter": "python",
   "pygments_lexer": "ipython3",
   "version": "3.7.7"
  }
 },
 "nbformat": 4,
 "nbformat_minor": 4
}
