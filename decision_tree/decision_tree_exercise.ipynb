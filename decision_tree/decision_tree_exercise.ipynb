{
 "cells": [
  {
   "cell_type": "markdown",
   "metadata": {},
   "source": [
    "### Decision Tree Exercise\n",
    "- Following example of [this blog post](https://towardsdatascience.com/decision-tree-from-scratch-in-python-46e99dfea775)\n",
    "- [Simplified version](https://github.com/joachimvalente/decision-tree-cart/blob/master/minimal_cart.py#L14-L79)"
   ]
  },
  {
   "cell_type": "code",
   "execution_count": 1,
   "metadata": {},
   "outputs": [],
   "source": [
    "# define Node class, which will be used in the classifier\n",
    "class Node:\n",
    "    def __init__(self, gini, n_samples, n_samples_class, pred_class):\n",
    "        self.gini = gini\n",
    "        self.n_samples = n_samples\n",
    "        self.n_samples_class = n_samples_class\n",
    "        self.pred_class = pred_class\n",
    "        self.col_idx = 0\n",
    "        self.val = 0\n",
    "        self.left = None\n",
    "        self.right = None"
   ]
  },
  {
   "cell_type": "code",
   "execution_count": 2,
   "metadata": {},
   "outputs": [],
   "source": [
    "# decision tree on categorical target values\n",
    "class DecisionTreeClassifier():\n",
    "    # constructor function. define the maximum depth of the tree\n",
    "    def __init__(self, max_depth=None):\n",
    "        self.max_depth = max_depth\n",
    "        \n",
    "    # fit function. bind input data matrix & target value\n",
    "    def fit(self, X, y):\n",
    "        # set meta data of input matrix & target classes\n",
    "        self.n_class = len(set(y))\n",
    "        self.n_feature = X.shape[1]\n",
    "        # recursively call grow_tree function to split input data. returns a node class\n",
    "        self.tree = self.grow_tree(X, y)\n",
    "    \n",
    "    # function that finds the best split point. return the column index & value in that column\n",
    "    def best_split(self, X, y):\n",
    "        m = len(y)\n",
    "        if m <= 1:\n",
    "            return None, None\n",
    "        # count values by class\n",
    "        num_parent = [np.sum(y==c) for c in range(self.n_class)]\n",
    "        # calculate the parent gini impurity\n",
    "        best_gini = 1. - np.sum([(n / m)**2 for n in num_parent]) \n",
    "        # initialize best column and best value\n",
    "        best_col, best_val = None, None\n",
    "        # loop through each column\n",
    "        for col in range(self.n_feature):\n",
    "            #  sort the current column in asc\n",
    "            idx = np.argsort(X[:, col])\n",
    "            vals = X[:, col][idx]\n",
    "            labels = y[idx]\n",
    "            # to begin with, put all values on the right side, then move value one by one to the left sid\n",
    "            # initialize count by class on the left to be all zeros\n",
    "            left_cnt = [0] * self.n_class\n",
    "            right_cnt = num_parent.copy()\n",
    "            # loop through each possible split point\n",
    "            # skipping the 1st because all values are on the right to begin with\n",
    "            for  i in range(1, m):\n",
    "                label = labels[i-1]\n",
    "                left_cnt[label] += 1\n",
    "                right_cnt[label] -= 1\n",
    "                # calculate gini impurity on both sides\n",
    "                left_gini = 1. - np.sum([(left_cnt[x] / i)**2 for x in range(self.n_class)])\n",
    "                right_gini = 1. - np.sum([(right_cnt[x] /(m- i))**2 for x in range(self.n_class)])\n",
    "                # calculate total gini, which is weighted sum of both sides\n",
    "                gini = (i/m) * left_gini + ((m-i)/m) * right_gini\n",
    "                # skip if 2 values are the same\n",
    "                if vals[i] == vals[i-1]:\n",
    "                    continue\n",
    "                # if the current gini is smaller than the parent gini\n",
    "                # update the best column & best value\n",
    "                if gini < best_gini:\n",
    "                    best_gini = gini\n",
    "                    best_col = col\n",
    "                    best_val = (vals[i] + vals[i-1])/2\n",
    "        return best_col, best_val\n",
    "    \n",
    "    def gini_impurity(self, y):\n",
    "        m = len(y)\n",
    "        return 1. - np.sum([(np.sum(y==c)/m)**2 for c in range(self.n_class)])\n",
    "    \n",
    "    def grow_tree(self, X, y, depth = 0):\n",
    "        # count samples by class\n",
    "        n_samples_class = [np.sum(y==i) for i in range(self.n_class)]\n",
    "        # set predicted class to be the one with the largest sample counts\n",
    "        pred_class = np.argmax(n_samples_class)\n",
    "        # create a new node with summary of the input set\n",
    "        node = Node(\n",
    "            gini = self.gini_impurity(y) # calculate parent gini \n",
    "            ,n_samples = len(y) # record total sample size\n",
    "            ,n_samples_class = n_samples_class # sample size by class\n",
    "            ,pred_class = pred_class # set predicted class\n",
    "        )\n",
    "        # check if the max depth has been reached\n",
    "        if depth < self.max_depth:\n",
    "            # if not reached, call best_split to run through all columns and find the best column & value to split\n",
    "            col, val = self.best_split(X, y)\n",
    "            if col is not None:\n",
    "                # split the whole dataset in this node into left & right based on the best column & value\n",
    "                left_idx = X[:, col] < val\n",
    "                X_left, y_left = X[left_idx], y[left_idx]\n",
    "                X_right, y_right = X[~left_idx], y[~left_idx]\n",
    "                # set the column index & value attributes of the current node\n",
    "                node.col_idx = col\n",
    "                node.val = val\n",
    "                # call grow_tree function recursively to further split dataset and create nodes\n",
    "                node.left = self.grow_tree(X_left, y_left, depth+1)\n",
    "                node.right = self.grow_tree(X_right, y_right, depth+1)\n",
    "        return node \n",
    "    \n",
    "    # function that makes prediciton for each sample\n",
    "    def predict_row(self, row):\n",
    "        node = self.tree\n",
    "        # check if at leaf (leaf node has no further split)\n",
    "        while node.left:\n",
    "            # compare input sample with the best value on the vest column\n",
    "            if row[node.col_idx] < node.val:\n",
    "                # if smaller, go down the tree along the left\n",
    "                node = node. left\n",
    "            else:\n",
    "                node = node.right\n",
    "        return node.pred_class\n",
    "          \n",
    "    def predict(self, X):\n",
    "        # call predict_row to make prediction for each sample\n",
    "        return [self.predict_row(row) for row in X]"
   ]
  },
  {
   "cell_type": "code",
   "execution_count": 3,
   "metadata": {},
   "outputs": [],
   "source": [
    "# load data for testing\n",
    "\n",
    "from sklearn.datasets import load_iris\n",
    "from sklearn.metrics import confusion_matrix\n",
    "\n",
    "data = load_iris()\n",
    "X, y = data.data, data.target"
   ]
  },
  {
   "cell_type": "code",
   "execution_count": 4,
   "metadata": {},
   "outputs": [
    {
     "data": {
      "text/plain": [
       "array([[50,  0,  0],\n",
       "       [ 0, 50,  0],\n",
       "       [ 0,  1, 49]])"
      ]
     },
     "execution_count": 4,
     "metadata": {},
     "output_type": "execute_result"
    }
   ],
   "source": [
    "clf = DecisionTreeClassifier(max_depth=4)\n",
    "clf.fit(X, y)\n",
    "y_pred = clf.predict(X)\n",
    "confusion_matrix(y, y_pred)"
   ]
  }
 ],
 "metadata": {
  "kernelspec": {
   "display_name": "Python 3",
   "language": "python",
   "name": "python3"
  },
  "language_info": {
   "codemirror_mode": {
    "name": "ipython",
    "version": 3
   },
   "file_extension": ".py",
   "mimetype": "text/x-python",
   "name": "python",
   "nbconvert_exporter": "python",
   "pygments_lexer": "ipython3",
   "version": "3.7.7"
  }
 },
 "nbformat": 4,
 "nbformat_minor": 4
}
