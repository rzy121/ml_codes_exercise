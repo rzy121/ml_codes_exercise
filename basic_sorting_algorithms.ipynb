{
 "cells": [
  {
   "cell_type": "markdown",
   "metadata": {},
   "source": [
    "### Bubble Sort\n",
    "\n",
    "- time complexity = $O(n^2)$\n",
    "- spalce complexity = $O(1)$"
   ]
  },
  {
   "cell_type": "code",
   "execution_count": 1,
   "metadata": {},
   "outputs": [
    {
     "data": {
      "text/plain": [
       "array([ 0,  1,  2,  3,  4,  5,  6,  7,  8,  9, 10, 11, 12, 13, 14, 15, 16,\n",
       "       17, 18, 19, 20, 21, 22, 23, 24, 25, 26, 27, 28, 29, 30, 31, 32, 33,\n",
       "       34, 35, 36, 37, 38, 39, 40, 41, 42, 43, 44, 45, 46, 47, 48, 49, 50,\n",
       "       51, 52, 53, 54, 55, 56, 57, 58, 59, 60, 61, 62, 63, 64, 65, 66, 67,\n",
       "       68, 69, 70, 71, 72, 73, 74, 75, 76, 77, 78, 79, 80, 81, 82, 83, 84,\n",
       "       85, 86, 87, 88, 89, 90, 91, 92, 93, 94, 95, 96, 97, 98, 99])"
      ]
     },
     "execution_count": 1,
     "metadata": {},
     "output_type": "execute_result"
    }
   ],
   "source": [
    "def bubblesort(arr):\n",
    "    \n",
    "    n = len(arr)\n",
    "    \n",
    "    for i in range(n-1, 0, -1): # set the \"range\" of each iteration\n",
    "        \n",
    "        for idx in range(i): # for each interation\n",
    "            \n",
    "            if arr[idx] > arr[idx + 1]: # check if the current element is larger than the next one \n",
    "                arr[idx], arr[idx+1] = arr[idx+1], arr[idx] # if yes, then swap the 2, moving the larger value to the left\n",
    "    \n",
    "    return arr\n",
    "\n",
    "test = np.random.permutation(100)\n",
    "\n",
    "bubblesort(test)"
   ]
  },
  {
   "cell_type": "markdown",
   "metadata": {},
   "source": [
    "### Insertion Sort\n",
    "\n",
    "- time complexity = $O(n^2)$\n",
    "- space complexity = $O(1)$"
   ]
  },
  {
   "cell_type": "code",
   "execution_count": 27,
   "metadata": {},
   "outputs": [
    {
     "data": {
      "text/plain": [
       "array([ 0,  1,  2,  3,  4,  5,  6,  7,  8,  9, 10, 11, 12, 13, 14, 15, 16,\n",
       "       17, 18, 19, 20, 21, 22, 23, 24, 25, 26, 27, 28, 29, 30, 31, 32, 33,\n",
       "       34, 35, 36, 37, 38, 39, 40, 41, 42, 43, 44, 45, 46, 47, 48, 49, 50,\n",
       "       51, 52, 53, 54, 55, 56, 57, 58, 59, 60, 61, 62, 63, 64, 65, 66, 67,\n",
       "       68, 69, 70, 71, 72, 73, 74, 75, 76, 77, 78, 79, 80, 81, 82, 83, 84,\n",
       "       85, 86, 87, 88, 89, 90, 91, 92, 93, 94, 95, 96, 97, 98, 99])"
      ]
     },
     "execution_count": 27,
     "metadata": {},
     "output_type": "execute_result"
    }
   ],
   "source": [
    "def insertionsort (arr):\n",
    "    \n",
    "    for i in range(len(arr)):\n",
    "        \n",
    "        cursor = arr[i] # target element\n",
    "        pos = i # position of the target element\n",
    "        \n",
    "        while pos > 0 and arr[pos-1] > cursor: # condition checks whether the target is smaller than the element before it\n",
    "            \n",
    "            arr[pos] = arr[pos - 1] # if yes, swap the target and the element before it\n",
    "            \n",
    "            pos = pos - 1 # move postion backward for 1\n",
    "            \n",
    "        arr[pos] = cursor # assign the target element to the new position\n",
    "            \n",
    "    return arr\n",
    "\n",
    "test = np.random.permutation(100)\n",
    "\n",
    "insertionsort(test)"
   ]
  },
  {
   "cell_type": "markdown",
   "metadata": {},
   "source": [
    "### Selection Sort\n",
    "\n",
    "- time complexity = $O(n^2)$\n",
    "- space complexity = $O(1)$"
   ]
  },
  {
   "cell_type": "code",
   "execution_count": 28,
   "metadata": {},
   "outputs": [
    {
     "data": {
      "text/plain": [
       "array([ 0,  1,  2,  3,  4,  5,  6,  7,  8,  9, 10, 11, 12, 13, 14, 15, 16,\n",
       "       17, 18, 19, 20, 21, 22, 23, 24, 25, 26, 27, 28, 29, 30, 31, 32, 33,\n",
       "       34, 35, 36, 37, 38, 39, 40, 41, 42, 43, 44, 45, 46, 47, 48, 49, 50,\n",
       "       51, 52, 53, 54, 55, 56, 57, 58, 59, 60, 61, 62, 63, 64, 65, 66, 67,\n",
       "       68, 69, 70, 71, 72, 73, 74, 75, 76, 77, 78, 79, 80, 81, 82, 83, 84,\n",
       "       85, 86, 87, 88, 89, 90, 91, 92, 93, 94, 95, 96, 97, 98, 99])"
      ]
     },
     "execution_count": 28,
     "metadata": {},
     "output_type": "execute_result"
    }
   ],
   "source": [
    "def selectionsort(arr):\n",
    "    \n",
    "    for i in range(len(arr)):\n",
    "        \n",
    "        minimum = i # anchor the index of the left-most element to be the minimum\n",
    "        \n",
    "        for j in range(i+1, len(arr)): # iterate over elements to the left of the anchor, the unsorted part\n",
    "            \n",
    "            if arr[j] < arr[minimum]: # check if each element is smaller than the anchor\n",
    "                minimum = j # if yes, update the anchor index, thus finding the smallest element in the left, unsorted part\n",
    "                \n",
    "        arr[minimum], arr[i] = arr[i], arr[minimum] # \n",
    "            \n",
    "    return arr\n",
    "\n",
    "test = np.random.permutation(100)\n",
    "\n",
    "selectionsort(test)\n"
   ]
  },
  {
   "cell_type": "markdown",
   "metadata": {},
   "source": [
    "### Merge Sort\n",
    "\n",
    "- time complexity = $O(nlog(n)$)\n",
    "- space complexity = $O(n)$"
   ]
  },
  {
   "cell_type": "code",
   "execution_count": 18,
   "metadata": {
    "scrolled": true
   },
   "outputs": [
    {
     "data": {
      "text/plain": [
       "array([ 0,  1,  2,  3,  4,  5,  6,  7,  8,  9, 10, 11, 12, 13, 14, 15, 16,\n",
       "       17, 18, 19, 20, 21, 22, 23, 24, 25, 26, 27, 28, 29, 30, 31, 32, 33,\n",
       "       34, 35, 36, 37, 38, 39, 40, 41, 42, 43, 44, 45, 46, 47, 48, 49, 50,\n",
       "       51, 52, 53, 54, 55, 56, 57, 58, 59, 60, 61, 62, 63, 64, 65, 66, 67,\n",
       "       68, 69, 70, 71, 72, 73, 74, 75, 76, 77, 78, 79, 80, 81, 82, 83, 84,\n",
       "       85, 86, 87, 88, 89, 90, 91, 92, 93, 94, 95, 96, 97, 98, 99])"
      ]
     },
     "execution_count": 18,
     "metadata": {},
     "output_type": "execute_result"
    }
   ],
   "source": [
    "def mergesort(arr):\n",
    "    \n",
    "    # end condition for recursion\n",
    "    if len(arr) <= 1:\n",
    "        return arr\n",
    "    \n",
    "    # find the mid-point of the arr\n",
    "    mid = len(arr) // 2\n",
    "    \n",
    "    left, right = mergesort(arr[:mid]), mergesort(arr[mid:])\n",
    "    \n",
    "    return merge(left, right, arr.copy())\n",
    "\n",
    "def merge(left, right, merged):\n",
    "    \n",
    "    left_idx, right_idx = 0, 0\n",
    "    \n",
    "    while left_idx < len(left) and right_idx < len(right):\n",
    "        \n",
    "        if left[left_idx] <= right[right_idx]:\n",
    "            merged[left_idx + right_idx] = left[left_idx]\n",
    "            left_idx += 1\n",
    "        else:\n",
    "            merged[left_idx + right_idx] = right[right_idx]\n",
    "            right_idx += 1\n",
    "        \n",
    "    for left_idx in range(left_idx, len(left)):\n",
    "        merged[left_idx + right_idx] = left[left_idx]\n",
    "    \n",
    "    for right_idx in range(right_idx, len(right)):\n",
    "        merged[left_idx + right_idx] = right[right_idx]\n",
    "\n",
    "    return merged\n",
    "        \n",
    "test = np.random.permutation(100)\n",
    "\n",
    "\n",
    "mergesort(test)\n",
    "    "
   ]
  }
 ],
 "metadata": {
  "kernelspec": {
   "display_name": "Python 3",
   "language": "python",
   "name": "python3"
  },
  "language_info": {
   "codemirror_mode": {
    "name": "ipython",
    "version": 3
   },
   "file_extension": ".py",
   "mimetype": "text/x-python",
   "name": "python",
   "nbconvert_exporter": "python",
   "pygments_lexer": "ipython3",
   "version": "3.7.3"
  }
 },
 "nbformat": 4,
 "nbformat_minor": 2
}
