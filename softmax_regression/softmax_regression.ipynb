{
 "cells": [
  {
   "cell_type": "markdown",
   "metadata": {},
   "source": [
    "### Code Excercise on Softmaxt Regression\n",
    "\n",
    "- Following example from [this post](https://medium.com/@awjuliani/simple-softmax-in-python-tutorial-d6b4c4ed5c16)"
   ]
  },
  {
   "cell_type": "code",
   "execution_count": 1,
   "metadata": {
    "ExecuteTime": {
     "end_time": "2019-10-30T18:31:05.285094Z",
     "start_time": "2019-10-30T18:31:04.672840Z"
    }
   },
   "outputs": [],
   "source": [
    "# Import libraries. Basic libraries like pandas, numpy have been loaded during initialization\n",
    "from sklearn import datasets\n",
    "images, digits = datasets.load_digits(return_X_y=True)"
   ]
  },
  {
   "cell_type": "code",
   "execution_count": 2,
   "metadata": {
    "ExecuteTime": {
     "end_time": "2019-10-30T18:31:06.604677Z",
     "start_time": "2019-10-30T18:31:06.431682Z"
    }
   },
   "outputs": [
    {
     "data": {
      "text/plain": [
       "Text(0.5, 1.0, 'Image for 8')"
      ]
     },
     "execution_count": 2,
     "metadata": {},
     "output_type": "execute_result"
    },
    {
     "data": {
      "image/png": "[encoded data removed]",
      "text/plain": [
       "<Figure size 432x288 with 1 Axes>"
      ]
     },
     "metadata": {
      "needs_background": "light"
     },
     "output_type": "display_data"
    }
   ],
   "source": [
    "# pick onenumber for example\n",
    "idx = np.random.randint(0, len(digits))\n",
    "plt.imshow(images[idx,:].reshape(8, 8))\n",
    "plt.title(f'Image for {digits[idx]}')"
   ]
  },
  {
   "cell_type": "code",
   "execution_count": 3,
   "metadata": {
    "ExecuteTime": {
     "end_time": "2019-10-30T18:31:11.083905Z",
     "start_time": "2019-10-30T18:31:11.065946Z"
    }
   },
   "outputs": [],
   "source": [
    "class softmax_regression():\n",
    "    \n",
    "    def __init__(self, lr=1e-5, n_iter=1000, lam=10):\n",
    "        self.lr = lr\n",
    "        self.n_iter = n_iter\n",
    "        self.lam = lam\n",
    "    \n",
    "    # utitily function that turns a list of labels into one-hot matrix\n",
    "    def one_hot(self, labels):\n",
    "        num_labels = labels.shape[0]\n",
    "        num_classes = len(np.unique(labels))\n",
    "        index_offset = np.arange(num_labels) * num_classes\n",
    "        labels_one_hot = np.zeros((num_labels, num_classes))\n",
    "        labels_one_hot.flat[index_offset + labels.ravel()] = 1\n",
    "        return labels_one_hot\n",
    "    \n",
    "    # softmax function\n",
    "    def softmax(self, z):\n",
    "        # subtract max to prevent overflow\n",
    "        z -= np.max(z)\n",
    "        #sm = 1 / (1 + np.exp(-z))\n",
    "        sm = (np.exp(z).T / np.sum(np.exp(z),axis=1)).T\n",
    "        return sm\n",
    "    \n",
    "    # loss function & gradient\n",
    "    def loss(self, X, y_mat): \n",
    "        N, D = X.shape\n",
    "        Z = X.dot(self.W)\n",
    "        prob = self.softmax(Z)\n",
    "        loss = (-1 / N) * np.sum(y_mat * np.log(prob)) + (1 / self.lam) * np.sum(self.W * self.W)\n",
    "        grad = (-1 / N) * X.T.dot((y_mat - prob)) + (1 / self.lam) * self.W\n",
    "        return loss, grad\n",
    "        \n",
    "    def predict(self, X):\n",
    "        probs = self.softmax(X.dot(self.W))\n",
    "        preds = np.argmax(probs, axis = 1)\n",
    "        return preds\n",
    "        \n",
    "    def fit(self, X, y):\n",
    "        y_mat = self.one_hot(y)\n",
    "        N, D = X.shape\n",
    "        self.W = np.zeros((X.shape[1], len(np.unique(y))))\n",
    "        self.losses = np.zeros(self.n_iter)\n",
    "        for i in range(self.n_iter):\n",
    "            loss, grad = self.loss(X, y_mat)\n",
    "            self.losses[i] = loss\n",
    "            self.W -= self.lr * grad"
   ]
  },
  {
   "cell_type": "code",
   "execution_count": 4,
   "metadata": {
    "ExecuteTime": {
     "end_time": "2019-10-30T18:31:33.639306Z",
     "start_time": "2019-10-30T18:31:24.498740Z"
    }
   },
   "outputs": [],
   "source": [
    "## test results\n",
    "\n",
    "SM = softmax_regression(lr=0.001, n_iter=10000, lam=10)\n",
    "SM.fit(images, digits)\n",
    "test_results = SM.predict(images)"
   ]
  },
  {
   "cell_type": "code",
   "execution_count": 5,
   "metadata": {
    "ExecuteTime": {
     "end_time": "2019-10-30T18:31:34.895037Z",
     "start_time": "2019-10-30T18:31:34.740572Z"
    }
   },
   "outputs": [
    {
     "data": {
      "text/plain": [
       "[<matplotlib.lines.Line2D at 0x215b87e5b00>]"
      ]
     },
     "execution_count": 5,
     "metadata": {},
     "output_type": "execute_result"
    },
    {
     "data": {
      "image/png": "[encoded data removed]",
      "text/plain": [
       "<Figure size 432x288 with 1 Axes>"
      ]
     },
     "metadata": {
      "needs_background": "light"
     },
     "output_type": "display_data"
    }
   ],
   "source": [
    "plt.plot(SM.losses)"
   ]
  },
  {
   "cell_type": "code",
   "execution_count": 6,
   "metadata": {
    "ExecuteTime": {
     "end_time": "2019-10-30T18:31:38.298029Z",
     "start_time": "2019-10-30T18:31:38.268526Z"
    },
    "scrolled": true
   },
   "outputs": [
    {
     "name": "stdout",
     "output_type": "stream",
     "text": [
      "              precision    recall  f1-score   support\n",
      "\n",
      "           0       1.00      1.00      1.00       178\n",
      "           1       0.96      0.98      0.97       182\n",
      "           2       1.00      1.00      1.00       177\n",
      "           3       0.99      0.99      0.99       183\n",
      "           4       1.00      0.98      0.99       181\n",
      "           5       0.98      0.99      0.98       182\n",
      "           6       0.99      0.98      0.99       181\n",
      "           7       0.99      0.99      0.99       179\n",
      "           8       0.97      0.96      0.96       174\n",
      "           9       0.98      0.98      0.98       180\n",
      "\n",
      "   micro avg       0.99      0.99      0.99      1797\n",
      "   macro avg       0.99      0.99      0.99      1797\n",
      "weighted avg       0.99      0.99      0.99      1797\n",
      "\n"
     ]
    }
   ],
   "source": [
    "from sklearn.metrics import classification_report\n",
    "\n",
    "print(classification_report(digits, test_results))"
   ]
  },
  {
   "cell_type": "code",
   "execution_count": 7,
   "metadata": {
    "ExecuteTime": {
     "end_time": "2019-10-30T18:31:42.366276Z",
     "start_time": "2019-10-30T18:31:42.124776Z"
    }
   },
   "outputs": [
    {
     "name": "stdout",
     "output_type": "stream",
     "text": [
      "              precision    recall  f1-score   support\n",
      "\n",
      "           0       1.00      1.00      1.00       178\n",
      "           1       0.97      0.98      0.98       182\n",
      "           2       1.00      1.00      1.00       177\n",
      "           3       0.98      1.00      0.99       183\n",
      "           4       1.00      1.00      1.00       181\n",
      "           5       1.00      1.00      1.00       182\n",
      "           6       1.00      1.00      1.00       181\n",
      "           7       1.00      1.00      1.00       179\n",
      "           8       0.98      0.97      0.97       174\n",
      "           9       1.00      0.98      0.99       180\n",
      "\n",
      "   micro avg       0.99      0.99      0.99      1797\n",
      "   macro avg       0.99      0.99      0.99      1797\n",
      "weighted avg       0.99      0.99      0.99      1797\n",
      "\n"
     ]
    },
    {
     "name": "stderr",
     "output_type": "stream",
     "text": [
      "C:\\Users\\rzhang\\AppData\\Local\\Continuum\\anaconda3\\lib\\site-packages\\sklearn\\linear_model\\logistic.py:433: FutureWarning: Default solver will be changed to 'lbfgs' in 0.22. Specify a solver to silence this warning.\n",
      "  FutureWarning)\n",
      "C:\\Users\\rzhang\\AppData\\Local\\Continuum\\anaconda3\\lib\\site-packages\\sklearn\\linear_model\\logistic.py:460: FutureWarning: Default multi_class will be changed to 'auto' in 0.22. Specify the multi_class option to silence this warning.\n",
      "  \"this warning.\", FutureWarning)\n"
     ]
    }
   ],
   "source": [
    "## reference using sklearn logistic regression\n",
    "\n",
    "from sklearn.linear_model import LogisticRegression\n",
    "\n",
    "LR = LogisticRegression(C=1, fit_intercept=False)\n",
    "LR.fit(images, digits)\n",
    "sk_results = LR.predict(images)\n",
    "print(classification_report(digits, sk_results))"
   ]
  },
  {
   "cell_type": "code",
   "execution_count": null,
   "metadata": {},
   "outputs": [],
   "source": []
  }
 ],
 "metadata": {
  "kernelspec": {
   "display_name": "Python 3",
   "language": "python",
   "name": "python3"
  },
  "language_info": {
   "codemirror_mode": {
    "name": "ipython",
    "version": 3
   },
   "file_extension": ".py",
   "mimetype": "text/x-python",
   "name": "python",
   "nbconvert_exporter": "python",
   "pygments_lexer": "ipython3",
   "version": "3.7.3"
  },
  "latex_envs": {
   "LaTeX_envs_menu_present": true,
   "autoclose": false,
   "autocomplete": true,
   "bibliofile": "biblio.bib",
   "cite_by": "apalike",
   "current_citInitial": 1,
   "eqLabelWithNumbers": true,
   "eqNumInitial": 1,
   "hotkeys": {
    "equation": "Ctrl-E",
    "itemize": "Ctrl-I"
   },
   "labels_anchors": false,
   "latex_user_defs": false,
   "report_style_numbering": false,
   "user_envs_cfg": false
  },
  "varInspector": {
   "cols": {
    "lenName": 16,
    "lenType": 16,
    "lenVar": 40
   },
   "kernels_config": {
    "python": {
     "delete_cmd_postfix": "",
     "delete_cmd_prefix": "del ",
     "library": "var_list.py",
     "varRefreshCmd": "print(var_dic_list())"
    },
    "r": {
     "delete_cmd_postfix": ") ",
     "delete_cmd_prefix": "rm(",
     "library": "var_list.r",
     "varRefreshCmd": "cat(var_dic_list()) "
    }
   },
   "types_to_exclude": [
    "module",
    "function",
    "builtin_function_or_method",
    "instance",
    "_Feature"
   ],
   "window_display": false
  }
 },
 "nbformat": 4,
 "nbformat_minor": 2
}
