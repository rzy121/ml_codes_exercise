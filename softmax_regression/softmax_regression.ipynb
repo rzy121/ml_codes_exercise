{
 "cells": [
  {
   "cell_type": "markdown",
   "metadata": {},
   "source": [
    "### Code Excercise on Softmaxt Regression\n",
    "\n",
    "- Following example from [this post](https://medium.com/@awjuliani/simple-softmax-in-python-tutorial-d6b4c4ed5c16)"
   ]
  },
  {
   "cell_type": "code",
   "execution_count": 2,
   "metadata": {},
   "outputs": [],
   "source": [
    "# Import libraries. Basic libraries like pandas, numpy have been loaded during initialization\n",
    "from sklearn import datasets\n",
    "images, digits = datasets.load_digits(return_X_y=True)"
   ]
  },
  {
   "cell_type": "code",
   "execution_count": 3,
   "metadata": {},
   "outputs": [
    {
     "data": {
      "text/plain": [
       "Text(0.5, 1.0, 'Image for 5')"
      ]
     },
     "execution_count": 3,
     "metadata": {},
     "output_type": "execute_result"
    },
    {
     "data": {
      "image/png": "[encoded data removed]",
      "text/plain": [
       "<Figure size 432x288 with 1 Axes>"
      ]
     },
     "metadata": {
      "needs_background": "light"
     },
     "output_type": "display_data"
    }
   ],
   "source": [
    "# pick onenumber for example\n",
    "idx = np.random.randint(0, len(digits))\n",
    "plt.imshow(images[idx,:].reshape(8, 8))\n",
    "plt.title(f'Image for {digits[idx]}')"
   ]
  },
  {
   "cell_type": "code",
   "execution_count": 12,
   "metadata": {},
   "outputs": [],
   "source": [
    "class softmax_regression():\n",
    "    \n",
    "    def __init__(self, lr=1e-5, n_iter=1000, lam=1):\n",
    "        self.lr = lr\n",
    "        self.n_iter = n_iter\n",
    "        self.lam = lam\n",
    "    \n",
    "    # utitily function that turns a list of labels into one-hot matrix\n",
    "    def one_hot(self, labels):\n",
    "        num_labels = labels.shape[0]\n",
    "        num_classes = len(np.unique(labels))\n",
    "        index_offset = np.arange(num_labels) * num_classes\n",
    "        labels_one_hot = np.zeros((num_labels, num_classes))\n",
    "        labels_one_hot.flat[index_offset + labels.ravel()] = 1\n",
    "        return labels_one_hot\n",
    "    \n",
    "    # softmax function\n",
    "    def softmax(self, z):\n",
    "        # subtract max to prevent overflow\n",
    "        z -= np.max(z)\n",
    "        sm = 1 / (1 + np.exp(-z))\n",
    "        return sm\n",
    "    \n",
    "    # loss function & gradient\n",
    "    def loss(self, X, y_mat): \n",
    "        N, D = X.shape\n",
    "        Z = X.dot(self.W)\n",
    "        prob = self.softmax(Z)\n",
    "        loss = (-1 / N) * np.sum(y_mat * np.log(prob)) + (self.lam / 2) * np.sum(self.W * self.W)\n",
    "        grad = (-1 / N) * X.T.dot((y_mat - prob)) + self.lam * self.W\n",
    "        return loss, grad\n",
    "        \n",
    "    def predict(self, X):\n",
    "        probs = self.softmax(X.dot(self.W))\n",
    "        preds = np.argmax(probs, axis = 1)\n",
    "        return preds\n",
    "        \n",
    "    def fit(self, X, y):\n",
    "        y_mat = self.one_hot(y)\n",
    "        N, D = X.shape\n",
    "        self.W = np.zeros((X.shape[1], len(np.unique(y))))\n",
    "        self.losses = np.zeros(self.n_iter)\n",
    "        for i in range(self.n_iter):\n",
    "            loss, grad = self.loss(X, y_mat)\n",
    "            self.losses[i] = loss\n",
    "            self.W -= self.lr * grad"
   ]
  },
  {
   "cell_type": "code",
   "execution_count": 13,
   "metadata": {},
   "outputs": [],
   "source": [
    "## test\n",
    "\n",
    "SM = softmax_regression()\n",
    "SM.fit(images, digits)\n",
    "test_results = SM.predict(images)"
   ]
  },
  {
   "cell_type": "code",
   "execution_count": 14,
   "metadata": {
    "scrolled": true
   },
   "outputs": [
    {
     "name": "stdout",
     "output_type": "stream",
     "text": [
      "              precision    recall  f1-score   support\n",
      "\n",
      "           0       0.97      0.99      0.98       178\n",
      "           1       0.77      0.82      0.79       182\n",
      "           2       0.92      0.91      0.91       177\n",
      "           3       0.89      0.92      0.91       183\n",
      "           4       0.94      0.94      0.94       181\n",
      "           5       0.94      0.88      0.91       182\n",
      "           6       0.90      0.98      0.94       181\n",
      "           7       0.84      0.99      0.91       179\n",
      "           8       0.97      0.57      0.72       174\n",
      "           9       0.79      0.84      0.81       180\n",
      "\n",
      "   micro avg       0.89      0.89      0.89      1797\n",
      "   macro avg       0.89      0.89      0.88      1797\n",
      "weighted avg       0.89      0.89      0.88      1797\n",
      "\n"
     ]
    }
   ],
   "source": [
    "from sklearn.metrics import classification_report\n",
    "\n",
    "print(classification_report(digits, test_results))"
   ]
  }
 ],
 "metadata": {
  "kernelspec": {
   "display_name": "Python 3",
   "language": "python",
   "name": "python3"
  },
  "language_info": {
   "codemirror_mode": {
    "name": "ipython",
    "version": 3
   },
   "file_extension": ".py",
   "mimetype": "text/x-python",
   "name": "python",
   "nbconvert_exporter": "python",
   "pygments_lexer": "ipython3",
   "version": "3.7.3"
  },
  "latex_envs": {
   "LaTeX_envs_menu_present": true,
   "autoclose": false,
   "autocomplete": true,
   "bibliofile": "biblio.bib",
   "cite_by": "apalike",
   "current_citInitial": 1,
   "eqLabelWithNumbers": true,
   "eqNumInitial": 1,
   "hotkeys": {
    "equation": "Ctrl-E",
    "itemize": "Ctrl-I"
   },
   "labels_anchors": false,
   "latex_user_defs": false,
   "report_style_numbering": false,
   "user_envs_cfg": false
  }
 },
 "nbformat": 4,
 "nbformat_minor": 2
}
