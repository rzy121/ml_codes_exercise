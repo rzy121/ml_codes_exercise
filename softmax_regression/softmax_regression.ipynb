{
 "cells": [
  {
   "cell_type": "markdown",
   "metadata": {},
   "source": [
    "### Code Excercise on Softmaxt Regression\n",
    "\n",
    "- Following example from [this post](https://medium.com/@awjuliani/simple-softmax-in-python-tutorial-d6b4c4ed5c16)"
   ]
  },
  {
   "cell_type": "code",
   "execution_count": 1,
   "metadata": {
    "ExecuteTime": {
     "end_time": "2019-10-29T01:51:22.002830Z",
     "start_time": "2019-10-29T01:51:20.232653Z"
    }
   },
   "outputs": [],
   "source": [
    "# Import libraries. Basic libraries like pandas, numpy have been loaded during initialization\n",
    "from sklearn import datasets\n",
    "images, digits = datasets.load_digits(return_X_y=True)"
   ]
  },
  {
   "cell_type": "code",
   "execution_count": 2,
   "metadata": {
    "ExecuteTime": {
     "end_time": "2019-10-29T01:51:23.233346Z",
     "start_time": "2019-10-29T01:51:23.055382Z"
    }
   },
   "outputs": [
    {
     "data": {
      "text/plain": [
       "Text(0.5, 1.0, 'Image for 7')"
      ]
     },
     "execution_count": 2,
     "metadata": {},
     "output_type": "execute_result"
    },
    {
     "data": {
      "image/png": "[encoded data removed]",
      "text/plain": [
       "<Figure size 432x288 with 1 Axes>"
      ]
     },
     "metadata": {
      "needs_background": "light"
     },
     "output_type": "display_data"
    }
   ],
   "source": [
    "# pick onenumber for example\n",
    "idx = np.random.randint(0, len(digits))\n",
    "plt.imshow(images[idx,:].reshape(8, 8))\n",
    "plt.title(f'Image for {digits[idx]}')"
   ]
  },
  {
   "cell_type": "code",
   "execution_count": 3,
   "metadata": {
    "ExecuteTime": {
     "end_time": "2019-10-29T01:51:27.966146Z",
     "start_time": "2019-10-29T01:51:27.952148Z"
    }
   },
   "outputs": [],
   "source": [
    "class softmax_regression():\n",
    "    \n",
    "    def __init__(self, lr=1e-5, n_iter=1000, lam=1):\n",
    "        self.lr = lr\n",
    "        self.n_iter = n_iter\n",
    "        self.lam = lam\n",
    "    \n",
    "    # utitily function that turns a list of labels into one-hot matrix\n",
    "    def one_hot(self, labels):\n",
    "        num_labels = labels.shape[0]\n",
    "        num_classes = len(np.unique(labels))\n",
    "        index_offset = np.arange(num_labels) * num_classes\n",
    "        labels_one_hot = np.zeros((num_labels, num_classes))\n",
    "        labels_one_hot.flat[index_offset + labels.ravel()] = 1\n",
    "        return labels_one_hot\n",
    "    \n",
    "    # softmax function\n",
    "    def softmax(self, z):\n",
    "        # subtract max to prevent overflow\n",
    "        z -= np.max(z)\n",
    "        #sm = 1 / (1 + np.exp(-z))\n",
    "        sm = (np.exp(z).T / np.sum(np.exp(z),axis=1)).T\n",
    "        return sm\n",
    "    \n",
    "    # loss function & gradient\n",
    "    def loss(self, X, y_mat): \n",
    "        N, D = X.shape\n",
    "        Z = X.dot(self.W)\n",
    "        prob = self.softmax(Z)\n",
    "        loss = (-1 / N) * np.sum(y_mat * np.log(prob)) + (self.lam / 2) * np.sum(self.W * self.W)\n",
    "        grad = (-1 / N) * X.T.dot((y_mat - prob)) + self.lam * self.W\n",
    "        return loss, grad\n",
    "        \n",
    "    def predict(self, X):\n",
    "        probs = self.softmax(X.dot(self.W))\n",
    "        preds = np.argmax(probs, axis = 1)\n",
    "        return preds\n",
    "        \n",
    "    def fit(self, X, y):\n",
    "        y_mat = self.one_hot(y)\n",
    "        N, D = X.shape\n",
    "        self.W = np.zeros((X.shape[1], len(np.unique(y))))\n",
    "        self.losses = np.zeros(self.n_iter)\n",
    "        for i in range(self.n_iter):\n",
    "            loss, grad = self.loss(X, y_mat)\n",
    "            self.losses[i] = loss\n",
    "            self.W -= self.lr * grad"
   ]
  },
  {
   "cell_type": "code",
   "execution_count": 4,
   "metadata": {
    "ExecuteTime": {
     "end_time": "2019-10-29T01:51:37.970615Z",
     "start_time": "2019-10-29T01:51:29.487110Z"
    }
   },
   "outputs": [],
   "source": [
    "## test results\n",
    "\n",
    "SM = softmax_regression(n_iter=10000)\n",
    "SM.fit(images, digits)\n",
    "test_results = SM.predict(images)"
   ]
  },
  {
   "cell_type": "code",
   "execution_count": 5,
   "metadata": {
    "ExecuteTime": {
     "end_time": "2019-10-29T01:51:39.379943Z",
     "start_time": "2019-10-29T01:51:39.241437Z"
    }
   },
   "outputs": [
    {
     "data": {
      "text/plain": [
       "[<matplotlib.lines.Line2D at 0x15063493b38>]"
      ]
     },
     "execution_count": 5,
     "metadata": {},
     "output_type": "execute_result"
    },
    {
     "data": {
      "image/png": "[encoded data removed]",
      "text/plain": [
       "<Figure size 432x288 with 1 Axes>"
      ]
     },
     "metadata": {
      "needs_background": "light"
     },
     "output_type": "display_data"
    }
   ],
   "source": [
    "plt.plot(SM.losses)"
   ]
  },
  {
   "cell_type": "code",
   "execution_count": 6,
   "metadata": {
    "ExecuteTime": {
     "end_time": "2019-10-29T01:51:43.446246Z",
     "start_time": "2019-10-29T01:51:43.418743Z"
    },
    "scrolled": true
   },
   "outputs": [
    {
     "name": "stdout",
     "output_type": "stream",
     "text": [
      "              precision    recall  f1-score   support\n",
      "\n",
      "           0       0.98      0.99      0.99       178\n",
      "           1       0.83      0.85      0.84       182\n",
      "           2       0.95      0.93      0.94       177\n",
      "           3       0.98      0.91      0.94       183\n",
      "           4       0.98      0.94      0.96       181\n",
      "           5       0.93      0.94      0.94       182\n",
      "           6       0.97      0.97      0.97       181\n",
      "           7       0.90      0.98      0.94       179\n",
      "           8       0.88      0.79      0.83       174\n",
      "           9       0.82      0.90      0.86       180\n",
      "\n",
      "   micro avg       0.92      0.92      0.92      1797\n",
      "   macro avg       0.92      0.92      0.92      1797\n",
      "weighted avg       0.92      0.92      0.92      1797\n",
      "\n"
     ]
    }
   ],
   "source": [
    "from sklearn.metrics import classification_report\n",
    "\n",
    "print(classification_report(digits, test_results))"
   ]
  },
  {
   "cell_type": "code",
   "execution_count": 7,
   "metadata": {
    "ExecuteTime": {
     "end_time": "2019-10-29T01:51:46.271348Z",
     "start_time": "2019-10-29T01:51:45.994853Z"
    }
   },
   "outputs": [
    {
     "name": "stderr",
     "output_type": "stream",
     "text": [
      "C:\\Users\\rzhang\\AppData\\Local\\Continuum\\anaconda3\\lib\\site-packages\\sklearn\\linear_model\\logistic.py:433: FutureWarning: Default solver will be changed to 'lbfgs' in 0.22. Specify a solver to silence this warning.\n",
      "  FutureWarning)\n",
      "C:\\Users\\rzhang\\AppData\\Local\\Continuum\\anaconda3\\lib\\site-packages\\sklearn\\linear_model\\logistic.py:460: FutureWarning: Default multi_class will be changed to 'auto' in 0.22. Specify the multi_class option to silence this warning.\n",
      "  \"this warning.\", FutureWarning)\n"
     ]
    },
    {
     "name": "stdout",
     "output_type": "stream",
     "text": [
      "              precision    recall  f1-score   support\n",
      "\n",
      "           0       0.98      0.99      0.99       178\n",
      "           1       0.83      0.85      0.84       182\n",
      "           2       0.95      0.93      0.94       177\n",
      "           3       0.98      0.91      0.94       183\n",
      "           4       0.98      0.94      0.96       181\n",
      "           5       0.93      0.94      0.94       182\n",
      "           6       0.97      0.97      0.97       181\n",
      "           7       0.90      0.98      0.94       179\n",
      "           8       0.88      0.79      0.83       174\n",
      "           9       0.82      0.90      0.86       180\n",
      "\n",
      "   micro avg       0.92      0.92      0.92      1797\n",
      "   macro avg       0.92      0.92      0.92      1797\n",
      "weighted avg       0.92      0.92      0.92      1797\n",
      "\n"
     ]
    }
   ],
   "source": [
    "## reference using sklearn logistic regression\n",
    "\n",
    "from sklearn.linear_model import LogisticRegression\n",
    "\n",
    "LR = LogisticRegression(C=2)\n",
    "LR.fit(images, digits)\n",
    "sk_results = SM.predict(images)\n",
    "print(classification_report(digits, sk_results))"
   ]
  },
  {
   "cell_type": "code",
   "execution_count": 8,
   "metadata": {
    "ExecuteTime": {
     "end_time": "2019-10-29T01:51:54.071328Z",
     "start_time": "2019-10-29T01:51:54.059325Z"
    }
   },
   "outputs": [
    {
     "data": {
      "text/plain": [
       "array([[ 0.00000000e+00, -5.22479941e-02, -3.96706785e-02,\n",
       "         4.95953072e-02, -1.07637995e-01, -4.24795069e-01,\n",
       "        -3.13265374e-01, -3.19558492e-02, -9.92603597e-06,\n",
       "        -1.27766568e-01, -1.23657899e-02,  2.07448931e-01,\n",
       "         2.43238094e-01,  3.14792505e-01,  5.99289757e-03,\n",
       "        -3.59978221e-02, -6.30216870e-03,  1.13613834e-01,\n",
       "         2.44071861e-01, -7.29410028e-02, -4.32221461e-01,\n",
       "         3.50494373e-01, -1.94997496e-02, -1.62121182e-02,\n",
       "        -3.14985704e-03,  2.09058257e-02, -9.39211309e-02,\n",
       "        -1.86672273e-01, -7.21991849e-01,  3.56666478e-02,\n",
       "         4.76577350e-02, -1.17501457e-04,  0.00000000e+00,\n",
       "         3.03770242e-01,  1.77673732e-01, -1.45128820e-01,\n",
       "        -7.13250293e-01, -6.04888463e-02, -7.65464294e-02,\n",
       "         0.00000000e+00, -1.84622858e-03, -2.81183588e-02,\n",
       "         2.42038253e-01, -3.36334508e-01, -3.19470290e-01,\n",
       "         9.31482125e-03,  1.63847968e-01, -6.97429967e-05,\n",
       "        -9.14997050e-04, -1.52453477e-01,  2.61533206e-02,\n",
       "        -9.61280022e-02,  9.32752684e-02, -2.13319858e-02,\n",
       "        -2.11119306e-01, -1.01879328e-01, -2.24674650e-06,\n",
       "        -6.67014581e-02, -3.17572392e-01,  1.28865302e-01,\n",
       "        -3.63024596e-01, -1.34820963e-01, -2.14258378e-01,\n",
       "        -8.62878541e-02],\n",
       "       [ 0.00000000e+00,  2.23523299e-01,  1.16066928e-01,\n",
       "         1.49705927e-01, -6.36868000e-01,  4.91674798e-01,\n",
       "        -2.85322861e-01, -5.09666893e-01, -1.24655406e-05,\n",
       "        -1.42783311e+00, -3.48512848e-01, -4.17107485e-01,\n",
       "         5.35465394e-02,  5.98535599e-02, -4.11022571e-01,\n",
       "        -3.98226901e-02,  7.04426903e-01,  5.98315721e-01,\n",
       "         1.08445508e-01,  7.09247572e-01,  3.88191760e-01,\n",
       "        -2.55553929e-01,  3.25968202e-01, -3.51234588e-01,\n",
       "        -9.08128736e-01, -2.49558689e-01, -3.99069128e-02,\n",
       "         1.24150913e-01,  5.01205454e-03,  1.51458439e-01,\n",
       "        -4.32499565e-01, -1.30461361e-06,  0.00000000e+00,\n",
       "        -7.56963351e-02,  5.37925037e-02, -8.16004310e-02,\n",
       "         1.58055524e-01, -2.04162195e-02, -3.92376876e-01,\n",
       "         0.00000000e+00, -5.31027662e-04, -6.35755979e-01,\n",
       "        -3.46271037e-02, -5.14266299e-02, -1.11253414e-01,\n",
       "        -2.31475944e-01, -1.32111421e-01, -2.54194729e-01,\n",
       "        -4.19450430e-02,  2.94790386e-02, -1.26794756e-01,\n",
       "         2.65688925e-01,  7.53259385e-02, -3.64295164e-02,\n",
       "        -4.08592698e-01,  7.77984114e-01, -1.39810268e-02,\n",
       "        -2.49924013e-01, -1.72848735e-01, -1.18039243e-01,\n",
       "         1.05581365e-01,  1.14541909e-01, -1.03981043e-01,\n",
       "         6.07899613e-02],\n",
       "       [ 0.00000000e+00,  6.97245501e-02, -9.51520213e-02,\n",
       "         4.10887283e-02, -6.75162690e-02, -2.76101974e-01,\n",
       "        -1.72549127e-01, -1.82642316e-02, -1.66789121e-04,\n",
       "         1.66691663e-01,  2.53738631e-01, -2.12967162e-01,\n",
       "         2.55084639e-01, -4.63645545e-02, -1.38109841e-02,\n",
       "        -3.78339961e-03, -2.89760674e-05, -1.48349515e-01,\n",
       "         1.04408097e-01, -2.47656155e-01,  2.15264005e-01,\n",
       "         2.16050940e-02,  9.57208172e-02, -1.00378835e-04,\n",
       "        -1.40503578e-05, -3.19023263e-01, -6.77577252e-01,\n",
       "        -5.88322889e-01, -3.85537273e-01,  2.00606457e-01,\n",
       "        -1.27188657e-01, -3.81353259e-06,  0.00000000e+00,\n",
       "        -3.40535709e-01, -6.13947451e-01, -1.60414320e-01,\n",
       "        -2.63462275e-01, -3.63812677e-01, -6.31035377e-01,\n",
       "         0.00000000e+00, -2.56715527e-05,  9.10959224e-02,\n",
       "         1.26983611e-01,  5.11601276e-01, -5.20550014e-01,\n",
       "        -5.15736954e-01, -4.72093942e-01,  1.61398565e-02,\n",
       "         2.08244574e-03,  2.74945943e-01, -4.96985969e-02,\n",
       "         5.04722218e-01,  2.97828789e-01,  2.95815541e-01,\n",
       "         2.40147742e-01, -7.05647021e-03,  6.99521248e-04,\n",
       "         1.39409540e-01,  7.97796352e-03, -4.12670510e-02,\n",
       "        -4.31227218e-02,  2.48801747e-01,  4.11525903e-01,\n",
       "         4.73523209e-03],\n",
       "       [ 0.00000000e+00,  5.73697774e-01, -1.17764762e+00,\n",
       "         3.23402258e-01,  4.66450447e-01, -2.26081381e-01,\n",
       "        -4.39465364e-01,  3.07348019e-01, -1.13121711e-01,\n",
       "        -3.25677317e-01,  4.03199837e-01, -3.90078485e-02,\n",
       "         5.56854742e-02,  7.52103032e-01,  1.11702058e+00,\n",
       "        -4.91760788e-01, -5.37068589e-05,  9.32925113e-02,\n",
       "        -9.62571624e-01, -4.43275753e-01,  7.37298512e-02,\n",
       "        -5.89710621e-01,  2.71144432e-01, -1.04515076e-03,\n",
       "        -3.11226410e-07, -6.97854114e-01, -4.67784891e-01,\n",
       "        -2.25727340e-02,  1.07774723e-01, -5.74541607e-01,\n",
       "        -3.07674411e+00, -7.68736166e-07,  0.00000000e+00,\n",
       "        -4.20463510e-01, -5.27560275e-01, -9.59608774e-02,\n",
       "        -1.38369362e-01, -2.17887056e-01,  5.77005995e-01,\n",
       "         0.00000000e+00, -2.79447519e-06,  7.05536774e-02,\n",
       "        -1.87033804e-01, -1.00543157e+00,  4.07548570e-01,\n",
       "         8.47146700e-01,  2.68870810e-01, -1.11613407e-02,\n",
       "        -3.34816105e-06, -4.13556367e-01, -8.57427995e-02,\n",
       "        -4.44651971e-01,  5.95137622e-02, -2.18613997e-02,\n",
       "         8.69361165e-01, -5.27521437e-01, -4.42827490e-07,\n",
       "         4.69595104e-01,  8.25410061e-01, -6.42815084e-01,\n",
       "         5.95250387e-01, -2.88812684e-01, -1.99826074e-01,\n",
       "        -1.09320513e+00],\n",
       "       [ 0.00000000e+00, -1.46403937e-02, -3.62094895e-01,\n",
       "        -7.74807261e-01, -3.36072146e-01, -3.89334498e-01,\n",
       "        -5.07306177e-01,  1.04829162e-01, -5.90895343e-05,\n",
       "        -7.40972123e-02, -4.63486682e-02, -4.02403879e-01,\n",
       "        -5.42225300e-01, -4.36909524e-01, -3.94992118e-01,\n",
       "         1.50453821e-01, -7.04464133e-03,  2.64260986e-01,\n",
       "         4.93679866e-01,  2.13534554e-01,  9.84158269e-03,\n",
       "         3.05385269e-01, -4.60344363e-03,  1.04090210e-01,\n",
       "         6.24958184e-02, -8.53310064e-02,  3.41965319e-01,\n",
       "         1.68386864e-02, -1.09601351e-01,  1.58371070e-02,\n",
       "         5.59403044e-01,  3.27454842e-03,  0.00000000e+00,\n",
       "         1.96804732e-01,  1.38412278e-01,  2.23937602e-02,\n",
       "         4.04801642e-01,  1.28872579e-01,  4.25761693e-01,\n",
       "         0.00000000e+00,  1.86336971e-03,  6.10441505e-01,\n",
       "        -1.98749501e-01,  4.84173730e-01,  1.18056963e-01,\n",
       "         1.78634508e-01,  8.47526189e-02, -1.11007259e-03,\n",
       "         3.60531342e-03,  4.56001277e-01, -1.78239074e-01,\n",
       "         1.53387308e-01,  1.25705074e-01, -4.05246717e-01,\n",
       "        -6.47444256e-01, -5.43621951e-03, -5.00044883e-05,\n",
       "        -1.20825587e-01, -2.74926297e-01, -3.24187710e-01,\n",
       "        -3.09380596e-01, -3.38744330e-01, -1.38814539e-01,\n",
       "        -3.74388910e-03],\n",
       "       [ 0.00000000e+00,  5.30836125e-02,  9.13822102e-01,\n",
       "        -5.33144880e-01, -3.17114773e-02,  4.44775879e-01,\n",
       "         8.23376697e-01, -1.63943288e-01,  6.75423494e-03,\n",
       "         1.26098394e-02,  1.03586804e-01,  1.31437143e-01,\n",
       "         4.11765222e-02, -1.58852949e-01, -4.66974521e-01,\n",
       "        -9.00974830e-02, -3.37625447e-02, -3.69063460e-01,\n",
       "         5.10312298e-01,  1.75070706e-01, -6.79037166e-01,\n",
       "        -8.17441758e-01, -1.34086950e+00, -1.29207035e-02,\n",
       "        -2.42072569e-02,  9.50617735e-02,  4.68720086e-01,\n",
       "        -1.67820110e-01,  4.21042620e-01, -1.66321852e-01,\n",
       "        -1.35355648e+00, -4.43797820e-05,  0.00000000e+00,\n",
       "        -4.25789419e-01,  9.58850677e-02, -2.53444344e-01,\n",
       "        -5.16968812e-01, -2.43942002e-01,  4.98598924e-01,\n",
       "         0.00000000e+00,  1.17761632e-04, -4.33579894e-01,\n",
       "        -4.23549505e-01, -4.21750619e-01, -3.03443578e-01,\n",
       "         1.81247065e-01,  9.57249044e-03, -1.23873453e-03,\n",
       "         1.00155271e-04,  6.94291744e-02, -4.40612718e-01,\n",
       "         1.64157945e-01,  3.60416908e-03, -1.77497519e-01,\n",
       "        -7.36854108e-01, -1.98187041e-02,  1.28711887e-05,\n",
       "        -1.01927836e-01,  1.57250619e-01,  3.57160354e-01,\n",
       "        -5.35990412e-02,  5.22697699e-02, -7.27323517e-01,\n",
       "        -1.21104998e-01],\n",
       "       [ 0.00000000e+00, -3.19956757e-02, -3.60597021e-01,\n",
       "        -1.64094309e-01, -3.13107095e-01, -3.40778829e-01,\n",
       "        -2.82175483e-01, -1.73439700e-04, -2.33723484e-05,\n",
       "        -4.36585163e-01, -3.90133617e-02, -4.35198193e-01,\n",
       "        -4.97200366e-01,  2.05090341e-01,  2.16992373e-01,\n",
       "        -2.75260627e-04, -1.11776896e-02, -1.85467016e-01,\n",
       "         2.16961377e-01,  2.28728779e-01, -6.01314243e-01,\n",
       "        -1.15174217e+00, -3.99528392e-01, -4.21358519e-04,\n",
       "        -5.58954307e-03,  4.36102198e-01, -5.92952577e-02,\n",
       "         3.45027446e-01, -1.07864455e-01, -7.90344310e-02,\n",
       "        -8.47211462e-01, -1.84309090e-05,  0.00000000e+00,\n",
       "         3.34355641e-01,  1.41168431e-01,  2.78195670e-01,\n",
       "        -9.58384740e-02,  4.63928675e-04, -1.67884298e-01,\n",
       "         0.00000000e+00, -7.53903994e-04, -9.42762866e-01,\n",
       "         7.32539337e-01, -1.51120695e-01,  1.80724729e-01,\n",
       "        -1.64253150e-01,  6.14016323e-01,  1.24156996e-01,\n",
       "        -1.99753404e-04, -4.10419987e-01,  4.72776363e-01,\n",
       "         2.62509098e-01, -3.56357029e-01,  4.45743324e-01,\n",
       "        -3.29296272e-02, -6.29805438e-01, -7.02392780e-07,\n",
       "        -1.99032481e-02, -4.55413538e-01, -4.36991190e-01,\n",
       "        -3.15181442e-02,  1.14311953e-01, -1.76449865e-01,\n",
       "        -2.86966881e-01],\n",
       "       [ 0.00000000e+00, -1.97006602e-01,  3.16814953e-01,\n",
       "         2.76710001e-01, -1.92437645e-01,  5.05452763e-01,\n",
       "         3.35179174e-01,  2.40940680e-01, -8.63016478e-06,\n",
       "         1.06068065e-01,  2.02392211e-01, -1.62100043e-01,\n",
       "         1.06458199e+00, -2.06490031e-01, -1.64158300e-01,\n",
       "         2.54708213e-01, -5.39707358e-06, -2.93967831e-01,\n",
       "        -4.50392993e-01, -4.37985427e-01, -2.96219524e-01,\n",
       "         3.72776612e-01,  1.35463448e-01,  6.31007288e-02,\n",
       "        -3.30795266e-06, -6.08181167e-01, -7.42770598e-02,\n",
       "        -5.53424545e-01, -1.03575838e-01,  4.58494771e-02,\n",
       "         2.17532577e-01, -2.12737162e-03,  0.00000000e+00,\n",
       "         6.77567342e-01, -2.23107460e-01,  1.57716653e-01,\n",
       "         1.43924124e-01,  7.90735957e-02,  2.98877315e-01,\n",
       "         0.00000000e+00, -9.14172491e-05, -5.16085461e-01,\n",
       "         6.68391108e-02, -1.32711017e-01,  2.02176485e-01,\n",
       "         3.24196503e-01,  1.47200996e-01, -3.08537467e-05,\n",
       "        -2.90998785e-05, -2.29892008e-01,  1.81488014e-01,\n",
       "         2.24488785e-01, -8.42216132e-01, -1.30441720e+00,\n",
       "        -3.23482794e-01, -4.06394597e-04, -4.55251482e-06,\n",
       "        -5.44990120e-01, -4.44178887e-01, -3.72358900e-01,\n",
       "        -8.99280209e-02, -9.15695457e-01, -3.46014362e-01,\n",
       "        -2.09953828e-02],\n",
       "       [ 0.00000000e+00, -5.85902120e-02,  2.15787894e-01,\n",
       "        -2.17738774e-01,  1.45566983e-02, -1.01573460e-02,\n",
       "        -5.89754544e-01, -8.54739541e-02,  1.61111680e+00,\n",
       "        -6.13452713e-02,  1.43264638e-01,  8.69438158e-03,\n",
       "        -1.61596072e-01,  1.30184873e-01,  1.91029745e-01,\n",
       "        -2.67310364e-01, -4.62239824e-01,  1.34510278e-01,\n",
       "         1.88510069e-01,  6.04198344e-02,  2.04531571e-02,\n",
       "         1.18499302e-01,  1.18266708e-01, -2.54964462e-01,\n",
       "        -6.50366503e-01, -1.27093015e-01, -5.44049133e-02,\n",
       "         1.55827961e-01, -9.54637139e-02,  1.81087457e-04,\n",
       "        -1.22672174e-01, -3.20140646e-03,  0.00000000e+00,\n",
       "        -4.32861214e-01, -1.12095369e-01,  3.08878549e-01,\n",
       "        -6.70856802e-03, -5.62436713e-02, -9.42335495e-01,\n",
       "         0.00000000e+00, -1.71492597e-03,  2.11320970e-01,\n",
       "         1.38810133e-01,  1.98239938e-02,  5.13777163e-02,\n",
       "         4.63608531e-02, -2.93709435e-03, -1.77288627e-01,\n",
       "        -3.37489605e-02, -1.16451593e-01,  1.62314471e-01,\n",
       "        -2.36033638e-01, -2.14979327e-01,  8.86987139e-02,\n",
       "         2.95515434e-02, -1.73429549e-01, -1.12084764e-02,\n",
       "         4.23786606e-02, -5.10221024e-01, -5.39000620e-03,\n",
       "         7.96800214e-02, -2.08245870e-01, -1.48626687e-01,\n",
       "         4.66743111e-02],\n",
       "       [ 0.00000000e+00, -1.11248987e+00,  1.43683204e-01,\n",
       "         2.26071972e-01,  1.00972231e-02, -1.93354993e-01,\n",
       "        -2.53014353e-01,  9.37717573e-02, -1.75676726e-02,\n",
       "         1.91957822e-01,  5.73891179e-02,  1.74357201e-01,\n",
       "        -7.09163720e-02, -1.30736640e-01,  4.24294048e-01,\n",
       "        -5.46606694e-01, -3.92971811e-01,  2.46030479e-01,\n",
       "         2.96630450e-01,  1.39512777e-01,  1.74316814e-01,\n",
       "         6.47846930e-01, -4.02484159e-02, -9.81212412e-01,\n",
       "        -1.91484644e-01, -2.57924558e-01,  2.16894839e-01,\n",
       "         3.19995806e-01, -1.96530572e-01,  3.13447031e-01,\n",
       "        -8.58680157e-02, -4.57249061e-02,  0.00000000e+00,\n",
       "        -7.22178538e-01, -1.93964345e-01,  5.41893445e-01,\n",
       "        -2.82773243e-01, -2.22721220e-01, -3.23049126e-02,\n",
       "         0.00000000e+00, -4.55027378e-06, -1.05728048e-01,\n",
       "        -7.37042623e-01, -1.34590330e+00, -6.22538293e-01,\n",
       "        -2.56575251e-01, -2.74030236e-01,  2.55364619e-04,\n",
       "        -5.03862260e-06,  1.33669673e-01, -5.83441061e-02,\n",
       "         5.03733088e-02, -2.01769792e-01, -3.13524222e-01,\n",
       "        -2.61618066e-01,  8.36423447e-01, -5.37274507e-07,\n",
       "        -5.58906702e-01, -3.12765570e-01, -9.30747473e-02,\n",
       "         5.34918664e-03,  2.59853593e-02, -2.91631217e-02,\n",
       "        -7.27087369e-01]])"
      ]
     },
     "execution_count": 8,
     "metadata": {},
     "output_type": "execute_result"
    }
   ],
   "source": [
    "LR.coef_"
   ]
  },
  {
   "cell_type": "code",
   "execution_count": 9,
   "metadata": {
    "ExecuteTime": {
     "end_time": "2019-10-29T01:51:59.125809Z",
     "start_time": "2019-10-29T01:51:59.110317Z"
    }
   },
   "outputs": [
    {
     "data": {
      "text/plain": [
       "array([[ 0.00000000e+00, -1.23687948e-03, -4.42935391e-03,\n",
       "         6.86955976e-03, -3.00218821e-03, -1.50232036e-02,\n",
       "        -6.65965941e-03, -6.66153367e-04, -2.38383212e-05,\n",
       "        -5.30328942e-03,  9.01749590e-03,  7.60113933e-03,\n",
       "         9.15713136e-03,  1.70751360e-02, -4.51534676e-03,\n",
       "        -6.27591257e-04, -1.52718359e-05,  5.11020783e-03,\n",
       "         1.76175819e-02, -6.95106793e-03, -2.18804196e-02,\n",
       "         2.22917318e-02,  7.86872115e-03, -2.82321425e-04,\n",
       "        -5.92251324e-06,  1.32852964e-02,  1.43653945e-02,\n",
       "        -3.36021636e-02, -4.88193586e-02,  4.50619070e-03,\n",
       "         2.02326701e-02, -1.96512862e-05,  0.00000000e+00,\n",
       "         1.70020231e-02,  1.89902669e-02, -3.84882445e-02,\n",
       "        -4.93526699e-02, -4.20124827e-03,  1.96425443e-02,\n",
       "         0.00000000e+00, -7.53229769e-05,  8.20602630e-03,\n",
       "         3.19652145e-02, -2.50051502e-02, -2.77992023e-02,\n",
       "         1.10352165e-02,  8.91230200e-03, -1.28247826e-04,\n",
       "        -1.04789914e-04, -6.06464484e-04,  2.56513677e-02,\n",
       "         4.40005344e-03,  7.05090722e-03,  1.86042444e-02,\n",
       "        -8.77708612e-03, -8.98823946e-04, -3.79777265e-06,\n",
       "        -1.25636765e-03, -6.26545878e-03,  7.16941422e-03,\n",
       "         4.35375798e-03, -9.30047383e-03, -8.81423775e-03,\n",
       "        -1.51397281e-03],\n",
       "       [ 0.00000000e+00, -1.85420827e-03, -1.49355031e-02,\n",
       "        -1.42370442e-02, -1.42628339e-02,  2.25389376e-03,\n",
       "        -2.31265436e-03, -9.53870272e-04, -5.28018812e-05,\n",
       "        -1.18948809e-02, -3.67777496e-02,  2.05672272e-03,\n",
       "         1.83128428e-02,  2.15760396e-03, -5.16646790e-03,\n",
       "        -8.75414162e-04,  7.67544787e-05, -7.31538719e-03,\n",
       "        -1.42814100e-02,  4.54850334e-02,  3.97862518e-02,\n",
       "        -3.38101451e-03, -6.83913413e-03, -4.27073915e-04,\n",
       "         3.60616368e-05, -1.67515746e-04,  2.00520833e-03,\n",
       "         2.93741447e-02,  1.76771609e-02, -7.18716516e-03,\n",
       "        -1.10853894e-02, -1.81452788e-05,  0.00000000e+00,\n",
       "        -7.03693496e-03, -6.90973565e-03,  9.04816339e-03,\n",
       "         1.30353254e-02, -1.80954557e-02, -1.42375483e-02,\n",
       "         0.00000000e+00, -7.04225437e-05, -8.65737068e-03,\n",
       "        -1.37757304e-02,  1.14774366e-02,  2.81306148e-02,\n",
       "        -1.43234350e-02, -1.70396035e-02, -2.05651347e-04,\n",
       "        -7.51319570e-05, -4.26726341e-03, -1.55174948e-02,\n",
       "         6.75307405e-03,  2.21933850e-02, -3.14549445e-03,\n",
       "        -8.23046717e-03,  3.38303873e-03, -1.05043098e-05,\n",
       "        -1.76329197e-03, -1.90432819e-02, -1.59324275e-02,\n",
       "         7.34935868e-03,  1.44583989e-02,  7.85671540e-03,\n",
       "         8.79980519e-03],\n",
       "       [ 0.00000000e+00,  2.94953226e-03,  1.96039962e-02,\n",
       "         9.28094111e-03, -8.94615363e-03, -1.54865435e-02,\n",
       "        -5.75548617e-03, -5.34438161e-04,  7.10142314e-06,\n",
       "         1.58226287e-02,  1.58900891e-02,  1.87253208e-03,\n",
       "         1.27695616e-02, -1.22247087e-02, -6.05000293e-03,\n",
       "        -3.68696841e-04,  7.73876373e-06,  9.29677713e-03,\n",
       "        -9.36589995e-03, -1.50488687e-02,  1.82474469e-02,\n",
       "        -5.90805041e-03, -4.05266744e-03, -1.23376879e-04,\n",
       "        -7.52797253e-06, -7.09580968e-03, -3.79656383e-02,\n",
       "        -3.08541431e-02,  5.90556373e-03, -1.01450000e-02,\n",
       "        -7.98793665e-03, -5.76038572e-06,  0.00000000e+00,\n",
       "        -9.16578974e-03, -3.14563821e-02, -5.53250096e-03,\n",
       "        -1.24802018e-03, -3.09166319e-02, -1.39914906e-02,\n",
       "         0.00000000e+00, -2.69538642e-05, -2.77054686e-03,\n",
       "        -3.66022582e-03,  2.76087607e-02, -2.37261648e-03,\n",
       "        -3.29262708e-02, -1.47354058e-02, -3.68661397e-05,\n",
       "         1.14542444e-04,  4.63703234e-03,  1.83671196e-02,\n",
       "         2.77584293e-02,  1.89226588e-02,  1.21248977e-02,\n",
       "         1.77531851e-02,  2.60506079e-03,  4.47679484e-05,\n",
       "         3.36547880e-03,  2.01387988e-02,  7.45354835e-03,\n",
       "         7.46962011e-03,  2.77687353e-02,  3.28593400e-02,\n",
       "         8.35024802e-03],\n",
       "       [ 0.00000000e+00,  1.92299062e-03,  1.37415805e-02,\n",
       "         1.25713933e-02,  1.65298865e-02,  1.00014744e-02,\n",
       "        -2.99153575e-03, -6.33980694e-04,  1.31081695e-05,\n",
       "         1.11633978e-02,  8.67421183e-03, -1.28214022e-02,\n",
       "         5.01401031e-03,  1.88296459e-02,  2.74337136e-03,\n",
       "        -4.01158118e-04,  1.55738716e-05, -4.33062918e-03,\n",
       "        -3.89300606e-02, -2.06779859e-02,  2.63513829e-02,\n",
       "         2.93302772e-03, -5.35140752e-03, -1.95248863e-04,\n",
       "        -2.85851004e-06, -1.15707780e-02, -4.24479212e-02,\n",
       "        -1.95304787e-03,  2.00565437e-02, -1.86641303e-02,\n",
       "        -1.34278320e-02, -6.64438260e-06,  0.00000000e+00,\n",
       "        -8.98577278e-03, -2.93836218e-02, -1.55424935e-02,\n",
       "         1.55990777e-02,  1.54238375e-02, -4.36488093e-03,\n",
       "         0.00000000e+00, -2.10714149e-05, -3.71686228e-03,\n",
       "        -2.48704238e-02, -3.25400388e-02, -1.29773333e-02,\n",
       "         2.45146215e-02,  1.78099941e-02, -1.40062429e-04,\n",
       "        -2.66986302e-05,  8.76628353e-04, -3.02141636e-03,\n",
       "        -1.60610716e-02, -2.59480133e-03,  2.08715573e-02,\n",
       "         1.15856717e-02, -1.16012039e-03, -3.23052962e-06,\n",
       "         1.25434753e-03,  1.79932930e-02,  1.37119200e-02,\n",
       "         1.23891137e-02,  7.04256265e-03, -6.75341382e-03,\n",
       "        -3.10926986e-03],\n",
       "       [ 0.00000000e+00, -1.00443653e-03, -1.89571642e-02,\n",
       "        -2.11412417e-02, -1.87388968e-03, -2.26535393e-02,\n",
       "        -8.27183543e-03, -2.02678148e-04, -2.19309028e-05,\n",
       "        -6.52486310e-03, -3.00148645e-02,  4.24548881e-03,\n",
       "        -1.05799708e-02, -3.14596030e-02, -5.45586371e-03,\n",
       "         7.71552955e-04, -1.59334658e-05, -7.00871605e-03,\n",
       "         3.56123159e-03,  1.98693086e-02, -6.24511936e-03,\n",
       "        -7.91165721e-03,  9.97131063e-03,  1.59489422e-03,\n",
       "         3.27868441e-05,  1.21476838e-02,  2.62804043e-02,\n",
       "        -1.25252748e-02, -7.42120853e-03,  1.62252438e-02,\n",
       "         2.12443036e-02,  1.39512478e-04,  0.00000000e+00,\n",
       "         3.30793579e-02,  3.11963101e-02,  8.40428668e-04,\n",
       "         1.49196931e-02,  2.77461018e-02,  1.42047909e-02,\n",
       "         0.00000000e+00,  4.33584105e-04,  2.57912005e-02,\n",
       "         1.83131090e-02,  2.60942156e-02,  3.50549124e-02,\n",
       "         1.13988984e-02, -8.50314338e-03, -1.87895369e-04,\n",
       "         3.27577766e-04,  3.73925665e-03, -2.17307990e-02,\n",
       "        -8.89662623e-03,  1.97877221e-02, -2.32773087e-02,\n",
       "        -1.82718253e-02, -1.06342804e-03, -4.11408256e-06,\n",
       "        -8.04664346e-04, -1.97458857e-02, -1.79167874e-02,\n",
       "         1.24348098e-03, -2.46325757e-02, -9.67464378e-03,\n",
       "        -1.51736208e-03],\n",
       "       [ 0.00000000e+00,  3.82769441e-03,  2.82537850e-02,\n",
       "         6.59907088e-03,  1.39773690e-02,  3.86296996e-02,\n",
       "         1.64490104e-02, -9.73085150e-04, -8.78142173e-06,\n",
       "         9.87806383e-03,  2.43254218e-02,  2.69148036e-03,\n",
       "        -9.27170308e-03, -1.37365899e-02, -1.13594427e-04,\n",
       "        -7.92582409e-04, -3.43632363e-05,  1.60672504e-02,\n",
       "         2.62399288e-02, -4.33106689e-03, -3.09016283e-02,\n",
       "        -4.63381652e-02, -1.27324856e-02, -3.88946977e-04,\n",
       "        -1.76197689e-05,  1.81904699e-02,  3.30249046e-02,\n",
       "         1.96689118e-02, -3.54244237e-03, -1.78375650e-02,\n",
       "        -1.18118519e-02, -1.53748545e-05,  0.00000000e+00,\n",
       "        -7.32595135e-04,  3.54520117e-03, -4.76424716e-03,\n",
       "        -8.66009517e-03, -1.32904024e-03, -3.78456567e-03,\n",
       "         0.00000000e+00, -3.60495514e-05, -6.96828597e-03,\n",
       "        -3.14309835e-02, -2.06132178e-02, -3.06040195e-03,\n",
       "         3.23298863e-03, -2.96365491e-03, -1.18695265e-04,\n",
       "        -3.10397037e-05,  8.99383021e-04, -9.16535001e-03,\n",
       "        -7.74347738e-03,  9.27083732e-03, -4.72687420e-03,\n",
       "        -1.19898912e-02, -1.12879168e-03, -2.68987338e-06,\n",
       "         3.94111688e-03,  2.98139301e-02,  1.60320873e-02,\n",
       "        -1.04585455e-02, -2.15815409e-02, -1.02422355e-02,\n",
       "        -2.41058042e-03],\n",
       "       [ 0.00000000e+00, -1.43980537e-03, -1.99038432e-02,\n",
       "        -3.59624243e-03, -9.81619112e-03, -1.75779877e-02,\n",
       "        -5.12463667e-03, -4.41201099e-04, -2.92204712e-05,\n",
       "        -9.60216504e-03, -1.60542378e-02,  9.38144021e-03,\n",
       "        -2.05683729e-02, -3.27262124e-02, -7.07996349e-03,\n",
       "        -4.53732604e-04, -2.45612698e-05, -1.02207974e-02,\n",
       "         1.01375775e-02,  8.76060164e-03, -3.02100033e-02,\n",
       "        -3.76357786e-02, -9.39863171e-03, -2.98407396e-04,\n",
       "        -1.18842736e-05, -2.56257613e-03,  1.83239940e-02,\n",
       "        -3.30487589e-03, -2.72696640e-02, -2.69171395e-02,\n",
       "        -1.28319414e-02, -1.69598320e-05,  0.00000000e+00,\n",
       "         3.53544890e-03,  3.13124205e-02,  1.82745159e-02,\n",
       "         9.20441287e-03,  8.08585487e-03, -1.54124080e-03,\n",
       "         0.00000000e+00, -9.63535343e-05, -1.12133127e-03,\n",
       "         3.51746791e-02,  1.59900560e-02, -1.12504961e-02,\n",
       "         8.60056905e-03,  2.88304020e-02,  1.07368542e-03,\n",
       "        -7.89622206e-05, -3.45990772e-03,  1.24409071e-02,\n",
       "         1.58720508e-02, -2.17195099e-02,  1.26128180e-02,\n",
       "         3.42839166e-02,  8.31795094e-04, -2.63210657e-06,\n",
       "        -1.35499991e-03, -1.93395825e-02, -7.82841964e-03,\n",
       "         1.24603464e-02,  2.99782157e-02,  9.76330838e-03,\n",
       "        -2.43502902e-03],\n",
       "       [ 0.00000000e+00, -6.94807975e-04,  7.80394967e-04,\n",
       "         9.88247350e-03,  1.32882761e-02,  2.47024935e-02,\n",
       "         2.05613536e-02,  5.40433656e-03, -2.72519340e-05,\n",
       "        -4.13637397e-03,  3.75899164e-03,  2.00383481e-03,\n",
       "         9.16346044e-03,  1.95486657e-02,  1.69614216e-02,\n",
       "         3.39808581e-03, -1.29750490e-05, -9.40620788e-03,\n",
       "        -2.50049678e-02, -2.36382587e-02,  4.20354868e-04,\n",
       "         1.44512370e-02,  7.47875267e-03,  4.67093887e-04,\n",
       "        -7.48677092e-06, -1.02204598e-02, -2.31127529e-02,\n",
       "        -1.51527544e-02,  8.80574606e-03,  2.59424225e-02,\n",
       "         1.67522649e-02, -2.41050971e-05,  0.00000000e+00,\n",
       "        -3.40771964e-03,  1.02045204e-02,  2.12882333e-02,\n",
       "         2.22141769e-02,  1.97243110e-02,  1.18731445e-02,\n",
       "         0.00000000e+00, -3.56851516e-05, -1.29046166e-03,\n",
       "        -3.69739773e-03,  2.35129754e-02,  1.27747341e-02,\n",
       "        -1.82180971e-02, -1.01489456e-02, -9.27152239e-05,\n",
       "        -3.68699597e-05, -3.05731098e-03, -1.91055944e-02,\n",
       "         1.59348073e-02, -2.21779246e-02, -4.06235099e-02,\n",
       "        -1.47812966e-02, -7.56393342e-04, -5.49667473e-06,\n",
       "        -9.42440296e-04,  5.84903352e-03, -1.39952802e-03,\n",
       "        -4.79026381e-02, -3.08476746e-02, -8.83157076e-03,\n",
       "        -1.48044332e-03],\n",
       "       [ 0.00000000e+00, -1.45592610e-03, -5.05293853e-03,\n",
       "        -7.32711036e-03, -1.01803243e-03, -1.10035726e-03,\n",
       "        -7.44369078e-03, -9.86497619e-04,  1.85985528e-04,\n",
       "        -1.15927686e-03,  9.38078832e-03, -7.99347927e-03,\n",
       "        -1.32437414e-02,  1.89270626e-02,  3.66536446e-03,\n",
       "        -7.42876212e-04,  2.48054415e-05,  2.30343531e-03,\n",
       "         1.11447304e-02, -1.28785323e-04, -2.12152297e-03,\n",
       "         2.35731698e-02,  3.13917702e-03, -3.24086339e-04,\n",
       "        -1.06417628e-05, -8.85922106e-03, -4.33605656e-03,\n",
       "         2.47845864e-02,  1.52153450e-02, -4.83133101e-03,\n",
       "        -1.21208158e-02, -1.51083154e-05,  0.00000000e+00,\n",
       "        -1.23950278e-02, -6.28076330e-03,  2.82485100e-02,\n",
       "         1.29259880e-02, -3.01334093e-02, -1.89124798e-02,\n",
       "         0.00000000e+00, -4.59596537e-05, -2.40320925e-03,\n",
       "         2.65544135e-02,  4.37609324e-03,  6.32345586e-03,\n",
       "         3.44902834e-03, -1.37409888e-02, -1.72347579e-04,\n",
       "        -5.80966712e-05,  1.40091639e-03,  2.14285467e-02,\n",
       "        -1.58897227e-02, -1.16950272e-02,  5.20004527e-03,\n",
       "        -9.16534465e-03, -1.43340294e-03, -9.21255571e-06,\n",
       "        -1.28553357e-03, -8.56657607e-03, -2.89021408e-04,\n",
       "         6.56175801e-03, -1.94384787e-03, -6.66875990e-03,\n",
       "        -2.63074418e-03],\n",
       "       [ 0.00000000e+00, -1.01415357e-03,  8.99046243e-04,\n",
       "         1.09820015e-03, -4.87624257e-03, -3.74592990e-03,\n",
       "         1.54913453e-03, -1.24320491e-05, -4.23701888e-05,\n",
       "         1.75675890e-03,  1.17998532e-02, -9.03775680e-03,\n",
       "        -7.53218341e-04,  1.36089998e-02,  5.01108184e-03,\n",
       "         9.24128385e-05, -2.17676988e-05,  5.50406706e-03,\n",
       "         1.88812880e-02, -3.33891027e-03,  6.55325700e-03,\n",
       "         3.79254995e-02,  9.91636490e-03, -2.25263144e-05,\n",
       "        -4.90690890e-06, -3.14708976e-03,  1.38624633e-02,\n",
       "         2.35646168e-02,  1.93923142e-02,  3.89084740e-02,\n",
       "         1.10365285e-02, -1.77630459e-05,  0.00000000e+00,\n",
       "        -1.18929898e-02, -2.12182161e-02, -1.33723652e-02,\n",
       "        -2.86378887e-02,  1.36956804e-02,  1.11117263e-02,\n",
       "         0.00000000e+00, -2.57654141e-05, -7.06915882e-03,\n",
       "        -3.45726548e-02, -3.09011309e-02, -2.48236671e-02,\n",
       "         3.23648052e-03,  1.15790440e-02,  8.79575995e-06,\n",
       "        -3.05311537e-05, -1.62270164e-04, -9.34728658e-03,\n",
       "        -2.21275169e-02, -1.90382473e-02,  2.35962461e-03,\n",
       "         7.59313753e-03, -3.78934289e-04, -3.09004340e-06,\n",
       "        -1.15364547e-03, -8.34270524e-04, -1.00078578e-03,\n",
       "         6.53374777e-03,  9.05820042e-03,  5.05497710e-04,\n",
       "        -2.05265152e-03]])"
      ]
     },
     "execution_count": 9,
     "metadata": {},
     "output_type": "execute_result"
    }
   ],
   "source": [
    "SM.W.T"
   ]
  },
  {
   "cell_type": "code",
   "execution_count": null,
   "metadata": {},
   "outputs": [],
   "source": []
  }
 ],
 "metadata": {
  "kernelspec": {
   "display_name": "Python 3",
   "language": "python",
   "name": "python3"
  },
  "language_info": {
   "codemirror_mode": {
    "name": "ipython",
    "version": 3
   },
   "file_extension": ".py",
   "mimetype": "text/x-python",
   "name": "python",
   "nbconvert_exporter": "python",
   "pygments_lexer": "ipython3",
   "version": "3.7.3"
  },
  "latex_envs": {
   "LaTeX_envs_menu_present": true,
   "autoclose": false,
   "autocomplete": true,
   "bibliofile": "biblio.bib",
   "cite_by": "apalike",
   "current_citInitial": 1,
   "eqLabelWithNumbers": true,
   "eqNumInitial": 1,
   "hotkeys": {
    "equation": "Ctrl-E",
    "itemize": "Ctrl-I"
   },
   "labels_anchors": false,
   "latex_user_defs": false,
   "report_style_numbering": false,
   "user_envs_cfg": false
  },
  "varInspector": {
   "cols": {
    "lenName": 16,
    "lenType": 16,
    "lenVar": 40
   },
   "kernels_config": {
    "python": {
     "delete_cmd_postfix": "",
     "delete_cmd_prefix": "del ",
     "library": "var_list.py",
     "varRefreshCmd": "print(var_dic_list())"
    },
    "r": {
     "delete_cmd_postfix": ") ",
     "delete_cmd_prefix": "rm(",
     "library": "var_list.r",
     "varRefreshCmd": "cat(var_dic_list()) "
    }
   },
   "types_to_exclude": [
    "module",
    "function",
    "builtin_function_or_method",
    "instance",
    "_Feature"
   ],
   "window_display": false
  }
 },
 "nbformat": 4,
 "nbformat_minor": 2
}
