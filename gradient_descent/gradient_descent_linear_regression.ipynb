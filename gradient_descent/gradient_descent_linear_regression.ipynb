{
 "cells": [
  {
   "cell_type": "markdown",
   "metadata": {},
   "source": [
    "### Import Packages"
   ]
  },
  {
   "cell_type": "code",
   "execution_count": 1,
   "metadata": {},
   "outputs": [],
   "source": [
    "import pandas as pd\n",
    "import numpy as np\n",
    "from sklearn.linear_model import LinearRegression\n",
    "import matplotlib.pyplot as plt\n",
    "plt.style.use('bmh')\n",
    "%matplotlib inline"
   ]
  },
  {
   "cell_type": "markdown",
   "metadata": {},
   "source": [
    "### Load data from UCI database"
   ]
  },
  {
   "cell_type": "code",
   "execution_count": 2,
   "metadata": {},
   "outputs": [
    {
     "data": {
      "text/html": [
       "<div>\n",
       "<style scoped>\n",
       "    .dataframe tbody tr th:only-of-type {\n",
       "        vertical-align: middle;\n",
       "    }\n",
       "\n",
       "    .dataframe tbody tr th {\n",
       "        vertical-align: top;\n",
       "    }\n",
       "\n",
       "    .dataframe thead th {\n",
       "        text-align: right;\n",
       "    }\n",
       "</style>\n",
       "<table border=\"1\" class=\"dataframe\">\n",
       "  <thead>\n",
       "    <tr style=\"text-align: right;\">\n",
       "      <th></th>\n",
       "      <th>crim</th>\n",
       "      <th>zn</th>\n",
       "      <th>indus</th>\n",
       "      <th>chas</th>\n",
       "      <th>nox</th>\n",
       "      <th>rm</th>\n",
       "      <th>age</th>\n",
       "      <th>dis</th>\n",
       "      <th>rad</th>\n",
       "      <th>tax</th>\n",
       "      <th>ptratio</th>\n",
       "      <th>bk</th>\n",
       "      <th>lstat</th>\n",
       "      <th>medv</th>\n",
       "    </tr>\n",
       "  </thead>\n",
       "  <tbody>\n",
       "    <tr>\n",
       "      <th>0</th>\n",
       "      <td>0.00632</td>\n",
       "      <td>18.0</td>\n",
       "      <td>2.31</td>\n",
       "      <td>0</td>\n",
       "      <td>0.538</td>\n",
       "      <td>6.575</td>\n",
       "      <td>65.2</td>\n",
       "      <td>4.0900</td>\n",
       "      <td>1</td>\n",
       "      <td>296.0</td>\n",
       "      <td>15.3</td>\n",
       "      <td>396.90</td>\n",
       "      <td>4.98</td>\n",
       "      <td>24.0</td>\n",
       "    </tr>\n",
       "    <tr>\n",
       "      <th>1</th>\n",
       "      <td>0.02731</td>\n",
       "      <td>0.0</td>\n",
       "      <td>7.07</td>\n",
       "      <td>0</td>\n",
       "      <td>0.469</td>\n",
       "      <td>6.421</td>\n",
       "      <td>78.9</td>\n",
       "      <td>4.9671</td>\n",
       "      <td>2</td>\n",
       "      <td>242.0</td>\n",
       "      <td>17.8</td>\n",
       "      <td>396.90</td>\n",
       "      <td>9.14</td>\n",
       "      <td>21.6</td>\n",
       "    </tr>\n",
       "    <tr>\n",
       "      <th>2</th>\n",
       "      <td>0.02729</td>\n",
       "      <td>0.0</td>\n",
       "      <td>7.07</td>\n",
       "      <td>0</td>\n",
       "      <td>0.469</td>\n",
       "      <td>7.185</td>\n",
       "      <td>61.1</td>\n",
       "      <td>4.9671</td>\n",
       "      <td>2</td>\n",
       "      <td>242.0</td>\n",
       "      <td>17.8</td>\n",
       "      <td>392.83</td>\n",
       "      <td>4.03</td>\n",
       "      <td>34.7</td>\n",
       "    </tr>\n",
       "    <tr>\n",
       "      <th>3</th>\n",
       "      <td>0.03237</td>\n",
       "      <td>0.0</td>\n",
       "      <td>2.18</td>\n",
       "      <td>0</td>\n",
       "      <td>0.458</td>\n",
       "      <td>6.998</td>\n",
       "      <td>45.8</td>\n",
       "      <td>6.0622</td>\n",
       "      <td>3</td>\n",
       "      <td>222.0</td>\n",
       "      <td>18.7</td>\n",
       "      <td>394.63</td>\n",
       "      <td>2.94</td>\n",
       "      <td>33.4</td>\n",
       "    </tr>\n",
       "    <tr>\n",
       "      <th>4</th>\n",
       "      <td>0.06905</td>\n",
       "      <td>0.0</td>\n",
       "      <td>2.18</td>\n",
       "      <td>0</td>\n",
       "      <td>0.458</td>\n",
       "      <td>7.147</td>\n",
       "      <td>54.2</td>\n",
       "      <td>6.0622</td>\n",
       "      <td>3</td>\n",
       "      <td>222.0</td>\n",
       "      <td>18.7</td>\n",
       "      <td>396.90</td>\n",
       "      <td>5.33</td>\n",
       "      <td>36.2</td>\n",
       "    </tr>\n",
       "  </tbody>\n",
       "</table>\n",
       "</div>"
      ],
      "text/plain": [
       "      crim    zn  indus  chas    nox     rm   age     dis  rad    tax  \\\n",
       "0  0.00632  18.0   2.31     0  0.538  6.575  65.2  4.0900    1  296.0   \n",
       "1  0.02731   0.0   7.07     0  0.469  6.421  78.9  4.9671    2  242.0   \n",
       "2  0.02729   0.0   7.07     0  0.469  7.185  61.1  4.9671    2  242.0   \n",
       "3  0.03237   0.0   2.18     0  0.458  6.998  45.8  6.0622    3  222.0   \n",
       "4  0.06905   0.0   2.18     0  0.458  7.147  54.2  6.0622    3  222.0   \n",
       "\n",
       "   ptratio      bk  lstat  medv  \n",
       "0     15.3  396.90   4.98  24.0  \n",
       "1     17.8  396.90   9.14  21.6  \n",
       "2     17.8  392.83   4.03  34.7  \n",
       "3     18.7  394.63   2.94  33.4  \n",
       "4     18.7  396.90   5.33  36.2  "
      ]
     },
     "execution_count": 2,
     "metadata": {},
     "output_type": "execute_result"
    }
   ],
   "source": [
    "url = 'https://archive.ics.uci.edu/ml/machine-learning-databases/housing/housing.data'\n",
    "\n",
    "cols = ['crim', 'zn', 'indus', 'chas', 'nox', 'rm', 'age', 'dis', 'rad', 'tax', 'ptratio', 'bk', 'lstat', 'medv']\n",
    "\n",
    "df = pd.read_csv (url, header=None, names = cols, delim_whitespace=True)\n",
    "\n",
    "df.head()"
   ]
  },
  {
   "cell_type": "markdown",
   "metadata": {},
   "source": [
    "### Create input variable matrix X and dependent variant y"
   ]
  },
  {
   "cell_type": "code",
   "execution_count": 3,
   "metadata": {},
   "outputs": [],
   "source": [
    "# take 'rm' & 'age' as inputs, 'medv' as dependent\n",
    "\n",
    "X = df.loc[:, ['rm', 'age']].values\n",
    "y = df.medv.values"
   ]
  },
  {
   "cell_type": "markdown",
   "metadata": {},
   "source": [
    "### Codes for algorithm"
   ]
  },
  {
   "cell_type": "code",
   "execution_count": 4,
   "metadata": {},
   "outputs": [],
   "source": [
    "# define cost function\n",
    "\n",
    "def cost(theta, X, y):\n",
    "    \n",
    "    cost = (X.dot(theta) - y).dot(X.dot(theta) - y)*(1/(2*len(y)))\n",
    "    \n",
    "    return cost"
   ]
  },
  {
   "cell_type": "code",
   "execution_count": 11,
   "metadata": {},
   "outputs": [],
   "source": [
    "# define gradient descent\n",
    "\n",
    "def gradient_descent(X, y, theta, lr  = 0.001, n = 100):\n",
    "    \n",
    "    m = len(y)\n",
    "    cost_history = np.zeros(n)\n",
    "    theta_history = np.zeros([theta.shape[0], n])\n",
    "    theta_temp = np.zeros(theta.shape)\n",
    "    \n",
    "    for i in range(n):        \n",
    "        \n",
    "        for j in range(len(theta)):\n",
    "            \n",
    "            theta[j] = theta[j] - lr * (1/m) * X[:, j].dot(X.dot(theta) - y)\n",
    "            \n",
    "        theta_history[:, i] = theta.T\n",
    "        cost_history[i] = cost(theta, X, y)\n",
    "        print(theta)\n",
    "        \n",
    "    return theta, cost_history, theta_history"
   ]
  },
  {
   "cell_type": "markdown",
   "metadata": {},
   "source": [
    "### Test Results"
   ]
  },
  {
   "cell_type": "code",
   "execution_count": 16,
   "metadata": {
    "scrolled": true
   },
   "outputs": [
    {
     "data": {
      "text/plain": [
       "array([-0.0286196 , -0.19449207])"
      ]
     },
     "execution_count": 16,
     "metadata": {},
     "output_type": "execute_result"
    }
   ],
   "source": [
    "t = np.random.randn(2) \n",
    "t"
   ]
  },
  {
   "cell_type": "code",
   "execution_count": 17,
   "metadata": {},
   "outputs": [
    {
     "name": "stdout",
     "output_type": "stream",
     "text": [
      "[0.2015174 2.23581  ]\n",
      "[-0.61340569 -8.33694838]\n",
      "[ 3.1106402  37.58244394]\n",
      "[ -12.88625856 -161.92931143]\n",
      "[ 56.79357429 704.83943176]\n",
      "[ -245.75210814 -3060.86810734]\n",
      "[ 1068.84192816 13299.30783365]\n",
      "[ -4642.26029073 -57777.80866569]\n",
      "[ 20169.91036948 251018.09394373]\n",
      "[  -87626.87339308 -1090551.72926046]\n",
      "[ 380698.52538257 4737924.46850869]\n",
      "[ -1653950.11357878 -20584003.83978227]\n",
      "[ 7185620.67465252 89427606.58465075]\n",
      "[-3.12180665e+07 -3.88519976e+08]\n",
      "[1.3562750e+08 1.6879326e+09]\n",
      "[-5.89236312e+08 -7.33325604e+09]\n",
      "[2.55994863e+09 3.18594736e+10]\n",
      "[-1.11217466e+10 -1.38414103e+11]\n",
      "[4.83186448e+10 6.01342766e+11]\n",
      "[-2.09921293e+11 -2.61254535e+12]\n",
      "[9.12007143e+11 1.13502541e+13]\n",
      "[-3.96223279e+12 -4.93114000e+13]\n",
      "[1.72139975e+13 2.14234337e+14]\n",
      "[-7.47865471e+13 -9.30745249e+14]\n",
      "[3.24911610e+14 4.04364085e+15]\n",
      "[-1.41158481e+15 -1.75676764e+16]\n",
      "[6.13265769e+15 7.63231120e+16]\n",
      "[-2.66434507e+16 -3.31587246e+17]\n",
      "[1.15752990e+17 1.44058724e+18]\n",
      "[-5.02891119e+17 -6.25865932e+18]\n",
      "[2.18482026e+18 2.71908673e+19]\n",
      "[-9.49199414e+18 -1.18131252e+20]\n",
      "[4.12381533e+19 5.13223524e+20]\n",
      "[-1.79159960e+20 -2.22970959e+21]\n",
      "[7.78363932e+20 9.68701672e+21]\n",
      "[-3.38161726e+21 -4.20854327e+22]\n",
      "[1.46915020e+22 1.82840982e+23]\n",
      "[-6.38275164e+22 -7.94356203e+23]\n",
      "[2.77299887e+23 3.45109599e+24]\n",
      "[-1.20473476e+24 -1.49933537e+25]\n",
      "[5.23399361e+24 6.51389170e+25]\n",
      "[-2.27391871e+25 -2.82997293e+26]\n",
      "[9.87908410e+25 1.22948725e+27]\n",
      "[-4.29198732e+26 -5.34153128e+27]\n",
      "[1.86466225e+27 2.32063866e+28]\n",
      "[-8.10106142e+27 -1.00820598e+29]\n",
      "[3.51952190e+28 4.38017052e+29]\n",
      "[-1.52906314e+29 -1.90297361e+30]\n",
      "[6.64304458e+29 8.26750589e+30]\n",
      "[-2.88608365e+30 -3.59183403e+31]\n",
      "[1.25386466e+31 1.56047928e+32]\n",
      "[-5.44743942e+31 -6.77953263e+32]\n",
      "[2.36665066e+32 2.94538115e+33]\n",
      "[-1.02819599e+33 -1.27962657e+34]\n",
      "[4.46701748e+33 5.55936255e+34]\n",
      "[-1.94070444e+34 -2.41527588e+35]\n",
      "[8.43142821e+34 1.04932131e+36]\n",
      "[-3.66305040e+35 -4.55879685e+36]\n",
      "[1.59141938e+36 1.98057817e+37]\n",
      "[-6.91395245e+36 -8.60466039e+37]\n",
      "[3.00378010e+37 3.73831146e+38]\n",
      "[-1.30499811e+38 -1.62411669e+39]\n",
      "[5.66958970e+38 7.05600657e+39]\n",
      "[-2.46316428e+39 -3.06549579e+40]\n",
      "[1.07012652e+40 1.33181061e+41]\n",
      "[-4.64918548e+40 -5.78607713e+41]\n",
      "[2.01984768e+41 2.51377247e+42]\n",
      "[-8.77526757e+41 -1.09211334e+43]\n",
      "[3.81243208e+42 4.74470768e+43]\n",
      "[-1.65631854e+43 -2.06134749e+44]\n",
      "[7.19590813e+43 8.95556429e+44]\n",
      "[-3.12627629e+44 -3.89076234e+45]\n",
      "[1.35821682e+45 1.69034927e+46]\n",
      "[-5.90079942e+45 -7.34375531e+46]\n",
      "[2.56361379e+46 3.19050879e+47]\n",
      "[-1.11376700e+47 -1.38612275e+48]\n",
      "[4.83878242e+47 6.02203729e+48]\n",
      "[-2.10221844e+48 -2.61628582e+49]\n",
      "[9.13312894e+48 1.13665047e+50]\n",
      "[-3.96790565e+49 -4.93820008e+50]\n",
      "[1.72386433e+50 2.14541064e+51]\n",
      "[-7.48936215e+50 -9.32077828e+51]\n",
      "[3.25376796e+51 4.04943027e+52]\n",
      "[-1.41360583e+52 -1.75928286e+53]\n",
      "[6.14143802e+52 7.64323864e+53]\n",
      "[-2.6681597e+53 -3.3206199e+54]\n",
      "[1.15918718e+54 1.44264978e+55]\n",
      "[-5.03611126e+54 -6.26762005e+55]\n",
      "[2.18794834e+55 2.72297973e+56]\n",
      "[-9.50558414e+55 -1.18300385e+57]\n",
      "[4.12971953e+56 5.13958323e+57]\n",
      "[-1.79416469e+57 -2.23290194e+58]\n",
      "[7.79478342e+57 9.70088594e+58]\n",
      "[-3.38645883e+58 -4.21456878e+59]\n",
      "[1.47125363e+59 1.83102761e+60]\n",
      "[-6.39189004e+59 -7.95493510e+60]\n",
      "[2.77696907e+60 3.45603704e+61]\n",
      "[-1.20645962e+61 -1.50148202e+62]\n",
      "[5.24148729e+61 6.52321786e+62]\n",
      "[-2.27717436e+62 -2.83402470e+63]\n"
     ]
    }
   ],
   "source": [
    "theta, cost_hist, theta_hist = gradient_descent(X, y, t, n = 100)"
   ]
  },
  {
   "cell_type": "code",
   "execution_count": 10,
   "metadata": {},
   "outputs": [
    {
     "data": {
      "text/plain": [
       "array([ 4.87983895, -0.11507156])"
      ]
     },
     "execution_count": 10,
     "metadata": {},
     "output_type": "execute_result"
    }
   ],
   "source": [
    "np.linalg.inv(X.T.dot(X)).dot(X.T).dot(y)"
   ]
  },
  {
   "cell_type": "code",
   "execution_count": null,
   "metadata": {},
   "outputs": [],
   "source": []
  }
 ],
 "metadata": {
  "kernelspec": {
   "display_name": "Python 3",
   "language": "python",
   "name": "python3"
  },
  "language_info": {
   "codemirror_mode": {
    "name": "ipython",
    "version": 3
   },
   "file_extension": ".py",
   "mimetype": "text/x-python",
   "name": "python",
   "nbconvert_exporter": "python",
   "pygments_lexer": "ipython3",
   "version": "3.6.6"
  }
 },
 "nbformat": 4,
 "nbformat_minor": 2
}
